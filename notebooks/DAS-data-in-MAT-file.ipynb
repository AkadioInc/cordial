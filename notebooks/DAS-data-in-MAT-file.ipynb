{
 "cells": [
  {
   "cell_type": "markdown",
   "metadata": {},
   "source": [
    "# Playing with DAS Data in `.mat` Format"
   ]
  },
  {
   "cell_type": "code",
   "execution_count": 1,
   "metadata": {},
   "outputs": [],
   "source": [
    "import h5py"
   ]
  },
  {
   "cell_type": "code",
   "execution_count": 2,
   "metadata": {},
   "outputs": [
    {
     "data": {
      "text/plain": [
       "'2.9.0'"
      ]
     },
     "execution_count": 2,
     "metadata": {},
     "output_type": "execute_result"
    }
   ],
   "source": [
    "h5py.version.version"
   ]
  },
  {
   "cell_type": "code",
   "execution_count": 3,
   "metadata": {},
   "outputs": [
    {
     "data": {
      "text/plain": [
       "'1.10.5'"
      ]
     },
     "execution_count": 3,
     "metadata": {},
     "output_type": "execute_result"
    }
   ],
   "source": [
    "h5py.version.hdf5_version"
   ]
  },
  {
   "cell_type": "code",
   "execution_count": 4,
   "metadata": {},
   "outputs": [],
   "source": [
    "das_file = '/Users/ajelenak/Downloads/PoroTomo_iDAS16043_160312145718.decimated.mat'"
   ]
  },
  {
   "cell_type": "markdown",
   "metadata": {},
   "source": [
    "Let's file's content:"
   ]
  },
  {
   "cell_type": "code",
   "execution_count": 5,
   "metadata": {},
   "outputs": [
    {
     "name": "stdout",
     "output_type": "stream",
     "text": [
      "HDF5 \"/Users/ajelenak/Downloads/PoroTomo_iDAS16043_160312145718.decimated.mat\" {\r\n",
      "FILE_CONTENTS {\r\n",
      " group      /\r\n",
      " group      /#refs#\r\n",
      " attribute  /#refs#/H5PATH\r\n",
      " dataset    /#refs#/a\r\n",
      " attribute  /#refs#/a/MATLAB_class\r\n",
      " attribute  /#refs#/a/MATLAB_empty\r\n",
      " dataset    /#refs#/b\r\n",
      " attribute  /#refs#/b/H5PATH\r\n",
      " attribute  /#refs#/b/MATLAB_class\r\n",
      " dataset    /#refs#/c\r\n",
      " attribute  /#refs#/c/H5PATH\r\n",
      " attribute  /#refs#/c/MATLAB_class\r\n",
      " dataset    /#refs#/d\r\n",
      " attribute  /#refs#/d/H5PATH\r\n",
      " attribute  /#refs#/d/MATLAB_class\r\n",
      " attribute  /#refs#/d/MATLAB_int_decode\r\n",
      " dataset    /#refs#/e\r\n",
      " attribute  /#refs#/e/H5PATH\r\n",
      " attribute  /#refs#/e/MATLAB_class\r\n",
      " attribute  /#refs#/e/MATLAB_int_decode\r\n",
      " dataset    /#refs#/f\r\n",
      " attribute  /#refs#/f/H5PATH\r\n",
      " attribute  /#refs#/f/MATLAB_class\r\n",
      " dataset    /#refs#/g\r\n",
      " attribute  /#refs#/g/H5PATH\r\n",
      " attribute  /#refs#/g/MATLAB_class\r\n",
      " attribute  /#refs#/g/MATLAB_empty\r\n",
      " group      /#refs#/h\r\n",
      " attribute  /#refs#/h/H5PATH\r\n",
      " attribute  /#refs#/h/MATLAB_class\r\n",
      " attribute  /#refs#/h/MATLAB_fields\r\n",
      " dataset    /#refs#/h/fmt\r\n",
      " attribute  /#refs#/h/fmt/H5PATH\r\n",
      " attribute  /#refs#/h/fmt/MATLAB_class\r\n",
      " attribute  /#refs#/h/fmt/MATLAB_empty\r\n",
      " dataset    /#refs#/h/isDateOnly\r\n",
      " attribute  /#refs#/h/isDateOnly/H5PATH\r\n",
      " attribute  /#refs#/h/isDateOnly/MATLAB_class\r\n",
      " attribute  /#refs#/h/isDateOnly/MATLAB_int_decode\r\n",
      " group      /#subsystem#\r\n",
      " dataset    /#subsystem#/MCOS\r\n",
      " attribute  /#subsystem#/MCOS/MATLAB_class\r\n",
      " attribute  /#subsystem#/MCOS/MATLAB_object_decode\r\n",
      " dataset    /data\r\n",
      " attribute  /data/MATLAB_class\r\n",
      " dataset    /dt\r\n",
      " attribute  /dt/MATLAB_class\r\n",
      " dataset    /nch\r\n",
      " attribute  /nch/MATLAB_class\r\n",
      " dataset    /npts\r\n",
      " attribute  /npts/MATLAB_class\r\n",
      " dataset    /t0\r\n",
      " attribute  /t0/MATLAB_class\r\n",
      " attribute  /t0/MATLAB_object_decode\r\n",
      " }\r\n",
      "}\r\n"
     ]
    }
   ],
   "source": [
    "!h5dump -n 1 $das_file"
   ]
  },
  {
   "cell_type": "code",
   "execution_count": 6,
   "metadata": {},
   "outputs": [
    {
     "name": "stdout",
     "output_type": "stream",
     "text": [
      "/                        Group\r\n",
      "/#refs#                  Group\r\n",
      "/#refs#/a                Dataset {2}\r\n",
      "/#refs#/b                Dataset {1, 216}\r\n",
      "/#refs#/c                Dataset {1, 1}\r\n",
      "/#refs#/d                Dataset {30, 1}\r\n",
      "/#refs#/e                Dataset {3, 1}\r\n",
      "/#refs#/f                Dataset {1, 2}\r\n",
      "/#refs#/g                Dataset {2}\r\n",
      "/#refs#/h                Group\r\n",
      "/#refs#/h/fmt            Dataset {2}\r\n",
      "/#refs#/h/isDateOnly     Dataset {1, 1}\r\n",
      "/#subsystem#             Group\r\n",
      "/#subsystem#/MCOS        Dataset {1, 6}\r\n",
      "/data                    Dataset {8721/Inf, 3000/Inf}\r\n",
      "/dt                      Dataset {1, 1}\r\n",
      "/nch                     Dataset {1, 1}\r\n",
      "/npts                    Dataset {1, 1}\r\n",
      "/t0                      Dataset {1, 6}\r\n"
     ]
    }
   ],
   "source": [
    "!h5ls -r $das_file"
   ]
  },
  {
   "cell_type": "markdown",
   "metadata": {},
   "source": [
    "Seems like interesting data are in these datasets: `/data`, `/dt`, `/nch`, `/npts`, `/t0`."
   ]
  },
  {
   "cell_type": "markdown",
   "metadata": {},
   "source": [
    "## Exploring File Content"
   ]
  },
  {
   "cell_type": "code",
   "execution_count": 7,
   "metadata": {},
   "outputs": [],
   "source": [
    "f = h5py.File(das_file, 'r')"
   ]
  },
  {
   "cell_type": "markdown",
   "metadata": {},
   "source": [
    "### What is in the `/#refs` group?"
   ]
  },
  {
   "cell_type": "code",
   "execution_count": 8,
   "metadata": {},
   "outputs": [
    {
     "data": {
      "text/plain": [
       "<HDF5 group \"/#refs#\" (8 members)>"
      ]
     },
     "execution_count": 8,
     "metadata": {},
     "output_type": "execute_result"
    }
   ],
   "source": [
    "ref = f['#refs#']\n",
    "ref"
   ]
  },
  {
   "cell_type": "code",
   "execution_count": 9,
   "metadata": {},
   "outputs": [
    {
     "data": {
      "text/plain": [
       "<HDF5 dataset \"a\": shape (2,), type \"<u8\">"
      ]
     },
     "execution_count": 9,
     "metadata": {},
     "output_type": "execute_result"
    }
   ],
   "source": [
    "a = ref['a']\n",
    "a"
   ]
  },
  {
   "cell_type": "code",
   "execution_count": 10,
   "metadata": {},
   "outputs": [
    {
     "data": {
      "text/plain": [
       "array([0, 0], dtype=uint64)"
      ]
     },
     "execution_count": 10,
     "metadata": {},
     "output_type": "execute_result"
    }
   ],
   "source": [
    "a[...]"
   ]
  },
  {
   "cell_type": "code",
   "execution_count": 11,
   "metadata": {},
   "outputs": [
    {
     "data": {
      "text/plain": [
       "b'canonical empty'"
      ]
     },
     "execution_count": 11,
     "metadata": {},
     "output_type": "execute_result"
    }
   ],
   "source": [
    "a.attrs['MATLAB_class']"
   ]
  },
  {
   "cell_type": "code",
   "execution_count": 12,
   "metadata": {},
   "outputs": [
    {
     "data": {
      "text/plain": [
       "<HDF5 dataset \"b\": shape (1, 216), type \"|u1\">"
      ]
     },
     "execution_count": 12,
     "metadata": {},
     "output_type": "execute_result"
    }
   ],
   "source": [
    "b = ref['b']\n",
    "b"
   ]
  },
  {
   "cell_type": "code",
   "execution_count": 13,
   "metadata": {},
   "outputs": [
    {
     "data": {
      "text/plain": [
       "array([[  2,   0,   0,   0,   5,   0,   0,   0,  72,   0,   0,   0, 104,\n",
       "          0,   0,   0, 104,   0,   0,   0, 152,   0,   0,   0, 200,   0,\n",
       "          0,   0, 216,   0,   0,   0,   0,   0,   0,   0,   0,   0,   0,\n",
       "          0, 100,  97, 116,  97,   0, 102, 109, 116,   0, 116, 122,   0,\n",
       "        100,  97, 116, 101, 116, 105, 109, 101,   0, 105, 115,  68,  97,\n",
       "        116, 101,  79, 110, 108, 121,   0,   0,   0,   0,   0,   0,   0,\n",
       "          0,   0,   0,   0,   0,   0,   0,   0,   0,   0,   0,   0,   0,\n",
       "          0,   4,   0,   0,   0,   0,   0,   0,   0,   0,   0,   0,   0,\n",
       "          0,   0,   0,   0,   0,   0,   0,   0,   0,   0,   0,   0,   0,\n",
       "          0,   0,   0,   0,   0,   0,   0,   0,   0,   0,   0,   1,   0,\n",
       "          0,   0,   0,   0,   0,   0,   0,   0,   0,   0,   0,   0,   0,\n",
       "          0,   1,   0,   0,   0,   1,   0,   0,   0,   0,   0,   0,   0,\n",
       "          0,   0,   0,   0,   3,   0,   0,   0,   1,   0,   0,   0,   1,\n",
       "          0,   0,   0,   0,   0,   0,   0,   2,   0,   0,   0,   1,   0,\n",
       "          0,   0,   1,   0,   0,   0,   3,   0,   0,   0,   1,   0,   0,\n",
       "          0,   2,   0,   0,   0,   0,   0,   0,   0,   0,   0,   0,   0,\n",
       "          0,   0,   0,   0,   0,   0,   0,   0]], dtype=uint8)"
      ]
     },
     "execution_count": 13,
     "metadata": {},
     "output_type": "execute_result"
    }
   ],
   "source": [
    "b[...]"
   ]
  },
  {
   "cell_type": "code",
   "execution_count": 14,
   "metadata": {},
   "outputs": [
    {
     "data": {
      "text/plain": [
       "<HDF5 dataset \"c\": shape (1, 1), type \"|V16\">"
      ]
     },
     "execution_count": 14,
     "metadata": {},
     "output_type": "execute_result"
    }
   ],
   "source": [
    "c = ref['c']\n",
    "c"
   ]
  },
  {
   "cell_type": "code",
   "execution_count": 15,
   "metadata": {},
   "outputs": [
    {
     "data": {
      "text/plain": [
       "array([[(1.45779464e+12, -0.00011491)]],\n",
       "      dtype=[('real', '<f8'), ('imag', '<f8')])"
      ]
     },
     "execution_count": 15,
     "metadata": {},
     "output_type": "execute_result"
    }
   ],
   "source": [
    "c[...]"
   ]
  },
  {
   "cell_type": "code",
   "execution_count": 16,
   "metadata": {},
   "outputs": [
    {
     "data": {
      "text/plain": [
       "<HDF5 dataset \"d\": shape (30, 1), type \"<u2\">"
      ]
     },
     "execution_count": 16,
     "metadata": {},
     "output_type": "execute_result"
    }
   ],
   "source": [
    "d = ref['d']\n",
    "d"
   ]
  },
  {
   "cell_type": "code",
   "execution_count": 17,
   "metadata": {},
   "outputs": [
    {
     "data": {
      "text/plain": [
       "array([[121],\n",
       "       [121],\n",
       "       [121],\n",
       "       [121],\n",
       "       [ 47],\n",
       "       [ 77],\n",
       "       [ 77],\n",
       "       [ 47],\n",
       "       [100],\n",
       "       [100],\n",
       "       [ 95],\n",
       "       [ 72],\n",
       "       [ 72],\n",
       "       [ 58],\n",
       "       [109],\n",
       "       [109],\n",
       "       [ 58],\n",
       "       [115],\n",
       "       [115],\n",
       "       [ 46],\n",
       "       [ 83],\n",
       "       [ 83],\n",
       "       [ 83],\n",
       "       [ 83],\n",
       "       [ 83],\n",
       "       [ 83],\n",
       "       [ 83],\n",
       "       [ 83],\n",
       "       [ 83],\n",
       "       [ 83]], dtype=uint16)"
      ]
     },
     "execution_count": 17,
     "metadata": {},
     "output_type": "execute_result"
    }
   ],
   "source": [
    "d[...]"
   ]
  },
  {
   "cell_type": "code",
   "execution_count": 18,
   "metadata": {},
   "outputs": [
    {
     "data": {
      "text/plain": [
       "b'char'"
      ]
     },
     "execution_count": 18,
     "metadata": {},
     "output_type": "execute_result"
    }
   ],
   "source": [
    "d.attrs['MATLAB_class']"
   ]
  },
  {
   "cell_type": "code",
   "execution_count": 19,
   "metadata": {},
   "outputs": [
    {
     "data": {
      "text/plain": [
       "'yyyy/MM/dd_HH:mm:ss.SSSSSSSSSS'"
      ]
     },
     "execution_count": 19,
     "metadata": {},
     "output_type": "execute_result"
    }
   ],
   "source": [
    "''.join(chr(c) for c in d[:,0].tolist())"
   ]
  },
  {
   "cell_type": "code",
   "execution_count": 20,
   "metadata": {},
   "outputs": [
    {
     "data": {
      "text/plain": [
       "<HDF5 dataset \"e\": shape (3, 1), type \"<u2\">"
      ]
     },
     "execution_count": 20,
     "metadata": {},
     "output_type": "execute_result"
    }
   ],
   "source": [
    "e = ref['e']\n",
    "e"
   ]
  },
  {
   "cell_type": "code",
   "execution_count": 21,
   "metadata": {},
   "outputs": [
    {
     "data": {
      "text/plain": [
       "array([[85],\n",
       "       [84],\n",
       "       [67]], dtype=uint16)"
      ]
     },
     "execution_count": 21,
     "metadata": {},
     "output_type": "execute_result"
    }
   ],
   "source": [
    "e[...]"
   ]
  },
  {
   "cell_type": "code",
   "execution_count": 22,
   "metadata": {},
   "outputs": [
    {
     "data": {
      "text/plain": [
       "b'char'"
      ]
     },
     "execution_count": 22,
     "metadata": {},
     "output_type": "execute_result"
    }
   ],
   "source": [
    "e.attrs['MATLAB_class']"
   ]
  },
  {
   "cell_type": "code",
   "execution_count": 23,
   "metadata": {},
   "outputs": [
    {
     "data": {
      "text/plain": [
       "'UTC'"
      ]
     },
     "execution_count": 23,
     "metadata": {},
     "output_type": "execute_result"
    }
   ],
   "source": [
    "''.join(chr(c) for c in e[:,0].tolist())"
   ]
  },
  {
   "cell_type": "code",
   "execution_count": 24,
   "metadata": {},
   "outputs": [
    {
     "data": {
      "text/plain": [
       "<HDF5 dataset \"f\": shape (1, 2), type \"|O\">"
      ]
     },
     "execution_count": 24,
     "metadata": {},
     "output_type": "execute_result"
    }
   ],
   "source": [
    "f_ = ref['f']\n",
    "f_"
   ]
  },
  {
   "cell_type": "code",
   "execution_count": 25,
   "metadata": {},
   "outputs": [
    {
     "data": {
      "text/plain": [
       "array([[<HDF5 object reference>, <HDF5 object reference>]], dtype=object)"
      ]
     },
     "execution_count": 25,
     "metadata": {},
     "output_type": "execute_result"
    }
   ],
   "source": [
    "f_[...]"
   ]
  },
  {
   "cell_type": "code",
   "execution_count": 26,
   "metadata": {},
   "outputs": [
    {
     "data": {
      "text/plain": [
       "b'cell'"
      ]
     },
     "execution_count": 26,
     "metadata": {},
     "output_type": "execute_result"
    }
   ],
   "source": [
    "f_.attrs['MATLAB_class']"
   ]
  },
  {
   "cell_type": "code",
   "execution_count": 27,
   "metadata": {},
   "outputs": [
    {
     "data": {
      "text/plain": [
       "<HDF5 dataset \"g\": shape (2,), type \"<u8\">"
      ]
     },
     "execution_count": 27,
     "metadata": {},
     "output_type": "execute_result"
    }
   ],
   "source": [
    "f[f_[0,0]]"
   ]
  },
  {
   "cell_type": "code",
   "execution_count": 28,
   "metadata": {},
   "outputs": [
    {
     "data": {
      "text/plain": [
       "<HDF5 group \"/#refs#/h\" (2 members)>"
      ]
     },
     "execution_count": 28,
     "metadata": {},
     "output_type": "execute_result"
    }
   ],
   "source": [
    "f[f_[0,1]]"
   ]
  },
  {
   "cell_type": "code",
   "execution_count": 29,
   "metadata": {},
   "outputs": [
    {
     "data": {
      "text/plain": [
       "<HDF5 dataset \"g\": shape (2,), type \"<u8\">"
      ]
     },
     "execution_count": 29,
     "metadata": {},
     "output_type": "execute_result"
    }
   ],
   "source": [
    "g = ref['g']\n",
    "g"
   ]
  },
  {
   "cell_type": "code",
   "execution_count": 30,
   "metadata": {},
   "outputs": [
    {
     "data": {
      "text/plain": [
       "array([1, 0], dtype=uint64)"
      ]
     },
     "execution_count": 30,
     "metadata": {},
     "output_type": "execute_result"
    }
   ],
   "source": [
    "g[...]"
   ]
  },
  {
   "cell_type": "code",
   "execution_count": 31,
   "metadata": {},
   "outputs": [
    {
     "data": {
      "text/plain": [
       "<HDF5 group \"/#refs#/h\" (2 members)>"
      ]
     },
     "execution_count": 31,
     "metadata": {},
     "output_type": "execute_result"
    }
   ],
   "source": [
    "h = ref['h']\n",
    "h"
   ]
  },
  {
   "cell_type": "code",
   "execution_count": 32,
   "metadata": {},
   "outputs": [
    {
     "data": {
      "text/plain": [
       "<HDF5 dataset \"fmt\": shape (2,), type \"<u8\">"
      ]
     },
     "execution_count": 32,
     "metadata": {},
     "output_type": "execute_result"
    }
   ],
   "source": [
    "fmt = h['fmt']\n",
    "fmt"
   ]
  },
  {
   "cell_type": "code",
   "execution_count": 33,
   "metadata": {},
   "outputs": [
    {
     "data": {
      "text/plain": [
       "array([0, 0], dtype=uint64)"
      ]
     },
     "execution_count": 33,
     "metadata": {},
     "output_type": "execute_result"
    }
   ],
   "source": [
    "fmt[...]"
   ]
  },
  {
   "cell_type": "code",
   "execution_count": 34,
   "metadata": {},
   "outputs": [
    {
     "data": {
      "text/plain": [
       "<HDF5 dataset \"isDateOnly\": shape (1, 1), type \"|u1\">"
      ]
     },
     "execution_count": 34,
     "metadata": {},
     "output_type": "execute_result"
    }
   ],
   "source": [
    "ido = h['isDateOnly']\n",
    "ido"
   ]
  },
  {
   "cell_type": "code",
   "execution_count": 35,
   "metadata": {},
   "outputs": [
    {
     "data": {
      "text/plain": [
       "array([[0]], dtype=uint8)"
      ]
     },
     "execution_count": 35,
     "metadata": {},
     "output_type": "execute_result"
    }
   ],
   "source": [
    "ido[...]"
   ]
  },
  {
   "cell_type": "markdown",
   "metadata": {},
   "source": [
    "### Dataset `/data`"
   ]
  },
  {
   "cell_type": "code",
   "execution_count": 36,
   "metadata": {},
   "outputs": [
    {
     "data": {
      "text/plain": [
       "<HDF5 dataset \"data\": shape (8721, 3000), type \"<f8\">"
      ]
     },
     "execution_count": 36,
     "metadata": {},
     "output_type": "execute_result"
    }
   ],
   "source": [
    "data = f['data']\n",
    "data"
   ]
  },
  {
   "cell_type": "code",
   "execution_count": 37,
   "metadata": {},
   "outputs": [],
   "source": [
    "def show_attrs(dset):\n",
    "    for n,v in dset.attrs.items():\n",
    "        print('{} = {}'.format(n, v))"
   ]
  },
  {
   "cell_type": "code",
   "execution_count": 38,
   "metadata": {},
   "outputs": [
    {
     "name": "stdout",
     "output_type": "stream",
     "text": [
      "MATLAB_class = b'double'\n"
     ]
    }
   ],
   "source": [
    "show_attrs(data)"
   ]
  },
  {
   "cell_type": "markdown",
   "metadata": {},
   "source": [
    "### Dataset `/dt`"
   ]
  },
  {
   "cell_type": "code",
   "execution_count": 39,
   "metadata": {},
   "outputs": [
    {
     "data": {
      "text/plain": [
       "<HDF5 dataset \"dt\": shape (1, 1), type \"<f8\">"
      ]
     },
     "execution_count": 39,
     "metadata": {},
     "output_type": "execute_result"
    }
   ],
   "source": [
    "dt = f['dt']\n",
    "dt"
   ]
  },
  {
   "cell_type": "code",
   "execution_count": 40,
   "metadata": {},
   "outputs": [
    {
     "name": "stdout",
     "output_type": "stream",
     "text": [
      "MATLAB_class = b'double'\n"
     ]
    }
   ],
   "source": [
    "show_attrs(dt)"
   ]
  },
  {
   "cell_type": "code",
   "execution_count": 41,
   "metadata": {},
   "outputs": [
    {
     "data": {
      "text/plain": [
       "array([[0.01]])"
      ]
     },
     "execution_count": 41,
     "metadata": {},
     "output_type": "execute_result"
    }
   ],
   "source": [
    "dt[...]"
   ]
  },
  {
   "cell_type": "markdown",
   "metadata": {},
   "source": [
    "### Dataset `/nch`"
   ]
  },
  {
   "cell_type": "code",
   "execution_count": 42,
   "metadata": {},
   "outputs": [
    {
     "data": {
      "text/plain": [
       "<HDF5 dataset \"nch\": shape (1, 1), type \"<f8\">"
      ]
     },
     "execution_count": 42,
     "metadata": {},
     "output_type": "execute_result"
    }
   ],
   "source": [
    "nch = f['nch']\n",
    "nch"
   ]
  },
  {
   "cell_type": "code",
   "execution_count": 43,
   "metadata": {},
   "outputs": [
    {
     "data": {
      "text/plain": [
       "array([[8721.]])"
      ]
     },
     "execution_count": 43,
     "metadata": {},
     "output_type": "execute_result"
    }
   ],
   "source": [
    "nch[...]"
   ]
  },
  {
   "cell_type": "code",
   "execution_count": 44,
   "metadata": {},
   "outputs": [
    {
     "name": "stdout",
     "output_type": "stream",
     "text": [
      "MATLAB_class = b'double'\n"
     ]
    }
   ],
   "source": [
    "show_attrs(nch)"
   ]
  },
  {
   "cell_type": "markdown",
   "metadata": {},
   "source": [
    "### Dataset `/npts`"
   ]
  },
  {
   "cell_type": "code",
   "execution_count": 45,
   "metadata": {},
   "outputs": [
    {
     "data": {
      "text/plain": [
       "<HDF5 dataset \"npts\": shape (1, 1), type \"<f8\">"
      ]
     },
     "execution_count": 45,
     "metadata": {},
     "output_type": "execute_result"
    }
   ],
   "source": [
    "npts = f['npts']\n",
    "npts"
   ]
  },
  {
   "cell_type": "code",
   "execution_count": 46,
   "metadata": {},
   "outputs": [
    {
     "data": {
      "text/plain": [
       "array([[3000.]])"
      ]
     },
     "execution_count": 46,
     "metadata": {},
     "output_type": "execute_result"
    }
   ],
   "source": [
    "npts[...]"
   ]
  },
  {
   "cell_type": "code",
   "execution_count": 47,
   "metadata": {},
   "outputs": [
    {
     "name": "stdout",
     "output_type": "stream",
     "text": [
      "MATLAB_class = b'double'\n"
     ]
    }
   ],
   "source": [
    "show_attrs(npts)"
   ]
  },
  {
   "cell_type": "markdown",
   "metadata": {},
   "source": [
    "### Dataset `/t0`"
   ]
  },
  {
   "cell_type": "code",
   "execution_count": 48,
   "metadata": {},
   "outputs": [
    {
     "data": {
      "text/plain": [
       "<HDF5 dataset \"t0\": shape (1, 6), type \"<u4\">"
      ]
     },
     "execution_count": 48,
     "metadata": {},
     "output_type": "execute_result"
    }
   ],
   "source": [
    "t0 = f['t0']\n",
    "t0"
   ]
  },
  {
   "cell_type": "code",
   "execution_count": 49,
   "metadata": {},
   "outputs": [
    {
     "name": "stdout",
     "output_type": "stream",
     "text": [
      "MATLAB_class = b'datetime'\n",
      "MATLAB_object_decode = 3\n"
     ]
    }
   ],
   "source": [
    "show_attrs(t0)"
   ]
  },
  {
   "cell_type": "code",
   "execution_count": 50,
   "metadata": {},
   "outputs": [
    {
     "data": {
      "text/plain": [
       "array([[3707764736,          2,          1,          1,          1,\n",
       "                 1]], dtype=uint32)"
      ]
     },
     "execution_count": 50,
     "metadata": {},
     "output_type": "execute_result"
    }
   ],
   "source": [
    "t0[...]"
   ]
  }
 ],
 "metadata": {
  "kernelspec": {
   "display_name": "Python 3",
   "language": "python",
   "name": "python3"
  },
  "language_info": {
   "codemirror_mode": {
    "name": "ipython",
    "version": 3
   },
   "file_extension": ".py",
   "mimetype": "text/x-python",
   "name": "python",
   "nbconvert_exporter": "python",
   "pygments_lexer": "ipython3",
   "version": "3.6.8"
  }
 },
 "nbformat": 4,
 "nbformat_minor": 2
}
