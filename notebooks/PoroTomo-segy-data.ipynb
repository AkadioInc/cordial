{
 "cells": [
  {
   "cell_type": "markdown",
   "metadata": {},
   "source": [
    "# Playing with PoroTomo SEG-Y Data\n",
    "\n",
    "These data are available from https://gdr.openei.org/submissions/980."
   ]
  },
  {
   "cell_type": "code",
   "execution_count": 1,
   "metadata": {},
   "outputs": [],
   "source": [
    "import numpy as np\n",
    "import segyio\n",
    "import re"
   ]
  },
  {
   "cell_type": "markdown",
   "metadata": {},
   "source": [
    "One SEG-Y file is enough:"
   ]
  },
  {
   "cell_type": "code",
   "execution_count": 2,
   "metadata": {},
   "outputs": [],
   "source": [
    "segy_file = '../../data/PoroTomo/SEG-Y/PoroTomo_iDAS16043_160326001145.sgy'"
   ]
  },
  {
   "cell_type": "code",
   "execution_count": 3,
   "metadata": {},
   "outputs": [],
   "source": [
    "f = segyio.open(segy_file, mode='r', strict=False)"
   ]
  },
  {
   "cell_type": "markdown",
   "metadata": {},
   "source": [
    "Header:"
   ]
  },
  {
   "cell_type": "code",
   "execution_count": 4,
   "metadata": {},
   "outputs": [
    {
     "data": {
      "text/plain": [
       "'C01 Client: Uni. Wisconsin                                                      C02 Field: PoroTomo                                                             C03 Fibre: Trenched Surface Fibre                                               C04 Data collected by Silixa iDAS, Distributed Fibre Optic Sensor               C05 iDAS S/N: iDAS16043                                                         C06 SEGY Format: Rev.1, IEEE 32bit float, big endian                            C07 Field Recording Filename: DAS__160326001145.tdms                            C08 Continuous acquisition data converted to SEGY                               C09 UTC Timestamp of first sample: 26-Mar-2016 00:11:45.133759819               C10                                                                             C11                                                                             C12                                                                             C13 Receiver positions are in true E, N, Elevation (m)                          C14 Number of Traces: 8721                                                      C15 Samples Per Trace: 30000                                                    C16 Sampling Interval (us): 1000                                                C17 Record Length (sec): 30                                                     C18 Measurement Units: Depths = Metres, Coordinates = Metres                    C19                                                                             C20 Trace amplitude is proportional to fibre strain-rate                        C21 For comparison with conventional geophones it is recommended to             C22 time-integrate this data                                                    C23                                                                             C24 Trace Header Byte Positions:                                                C25 41-44: Receiver Elevation (m)                                               C26 81-84: Receiver Easting (m)                                                 C27 85-88: Receiver Northing (m)                                                C28 233-236: Samples per Trace                                                  C29 237-240: Fibre distance from beginning of trench (m)                        C30                                                                             C31                                                                             C32                                                                             C33                                                                             C34                                                                             C35 Binary Header Byte Positions:                                               C36 63-66: Samples per Trace                                                    C37 67-70: Number of Traces in file                                             C38                                                                             C39 Silixa Ltd, 230 Centennial Park, Elstree, UK, WD6 3SN                       C40 End Text Header                                                             '"
      ]
     },
     "execution_count": 4,
     "metadata": {},
     "output_type": "execute_result"
    }
   ],
   "source": [
    "hdr = f.text[0].decode('ascii')\n",
    "hdr"
   ]
  },
  {
   "cell_type": "markdown",
   "metadata": {},
   "source": [
    "Parse the header into these \"C\" sections:"
   ]
  },
  {
   "cell_type": "code",
   "execution_count": 5,
   "metadata": {},
   "outputs": [],
   "source": [
    "def header2dict(hdr):\n",
    "    zz = [s.strip() for s in re.split('(C\\d{2})', hdr)[1:]]\n",
    "    return dict(zip(zz[:-1:2], zz[1::2]))"
   ]
  },
  {
   "cell_type": "code",
   "execution_count": 6,
   "metadata": {},
   "outputs": [
    {
     "data": {
      "text/plain": [
       "{'C01': 'Client: Uni. Wisconsin',\n",
       " 'C02': 'Field: PoroTomo',\n",
       " 'C03': 'Fibre: Trenched Surface Fibre',\n",
       " 'C04': 'Data collected by Silixa iDAS, Distributed Fibre Optic Sensor',\n",
       " 'C05': 'iDAS S/N: iDAS16043',\n",
       " 'C06': 'SEGY Format: Rev.1, IEEE 32bit float, big endian',\n",
       " 'C07': 'Field Recording Filename: DAS__160326001145.tdms',\n",
       " 'C08': 'Continuous acquisition data converted to SEGY',\n",
       " 'C09': 'UTC Timestamp of first sample: 26-Mar-2016 00:11:45.133759819',\n",
       " 'C10': '',\n",
       " 'C11': '',\n",
       " 'C12': '',\n",
       " 'C13': 'Receiver positions are in true E, N, Elevation (m)',\n",
       " 'C14': 'Number of Traces: 8721',\n",
       " 'C15': 'Samples Per Trace: 30000',\n",
       " 'C16': 'Sampling Interval (us): 1000',\n",
       " 'C17': 'Record Length (sec): 30',\n",
       " 'C18': 'Measurement Units: Depths = Metres, Coordinates = Metres',\n",
       " 'C19': '',\n",
       " 'C20': 'Trace amplitude is proportional to fibre strain-rate',\n",
       " 'C21': 'For comparison with conventional geophones it is recommended to',\n",
       " 'C22': 'time-integrate this data',\n",
       " 'C23': '',\n",
       " 'C24': 'Trace Header Byte Positions:',\n",
       " 'C25': '41-44: Receiver Elevation (m)',\n",
       " 'C26': '81-84: Receiver Easting (m)',\n",
       " 'C27': '85-88: Receiver Northing (m)',\n",
       " 'C28': '233-236: Samples per Trace',\n",
       " 'C29': '237-240: Fibre distance from beginning of trench (m)',\n",
       " 'C30': '',\n",
       " 'C31': '',\n",
       " 'C32': '',\n",
       " 'C33': '',\n",
       " 'C34': '',\n",
       " 'C35': 'Binary Header Byte Positions:',\n",
       " 'C36': '63-66: Samples per Trace',\n",
       " 'C37': '67-70: Number of Traces in file',\n",
       " 'C38': '',\n",
       " 'C39': 'Silixa Ltd, 230 Centennial Park, Elstree, UK, WD6 3SN',\n",
       " 'C40': 'End Text Header'}"
      ]
     },
     "execution_count": 6,
     "metadata": {},
     "output_type": "execute_result"
    }
   ],
   "source": [
    "hdr = header2dict(hdr)\n",
    "hdr"
   ]
  },
  {
   "cell_type": "markdown",
   "metadata": {},
   "source": [
    "Try accessing some of the header fields:"
   ]
  },
  {
   "cell_type": "code",
   "execution_count": 7,
   "metadata": {},
   "outputs": [
    {
     "data": {
      "text/plain": [
       "'UTC Timestamp of first sample: 26-Mar-2016 00:11:45.133759819'"
      ]
     },
     "execution_count": 7,
     "metadata": {},
     "output_type": "execute_result"
    }
   ],
   "source": [
    "hdr['C09']"
   ]
  },
  {
   "cell_type": "code",
   "execution_count": 8,
   "metadata": {},
   "outputs": [
    {
     "data": {
      "text/plain": [
       "'Number of Traces: 8721'"
      ]
     },
     "execution_count": 8,
     "metadata": {},
     "output_type": "execute_result"
    }
   ],
   "source": [
    "hdr['C14']"
   ]
  },
  {
   "cell_type": "markdown",
   "metadata": {},
   "source": [
    "_Important_ header fields:"
   ]
  },
  {
   "cell_type": "code",
   "execution_count": 9,
   "metadata": {},
   "outputs": [
    {
     "data": {
      "text/plain": [
       "{'C01': 'Client: Uni. Wisconsin',\n",
       " 'C02': 'Field: PoroTomo',\n",
       " 'C05': 'iDAS S/N: iDAS16043',\n",
       " 'C14': 'Number of Traces: 8721',\n",
       " 'C15': 'Samples Per Trace: 30000',\n",
       " 'C16': 'Sampling Interval (us): 1000'}"
      ]
     },
     "execution_count": 9,
     "metadata": {},
     "output_type": "execute_result"
    }
   ],
   "source": [
    "{k: hdr[k] for k in ('C01', 'C02', 'C05', 'C14', 'C15', 'C16')}"
   ]
  },
  {
   "cell_type": "markdown",
   "metadata": {},
   "source": [
    "Now, back to reading the actual DAS data..."
   ]
  },
  {
   "cell_type": "code",
   "execution_count": 10,
   "metadata": {},
   "outputs": [
    {
     "data": {
      "text/plain": [
       "8721"
      ]
     },
     "execution_count": 10,
     "metadata": {},
     "output_type": "execute_result"
    }
   ],
   "source": [
    "f.tracecount"
   ]
  },
  {
   "cell_type": "code",
   "execution_count": 11,
   "metadata": {},
   "outputs": [
    {
     "data": {
      "text/plain": [
       "array([0.0000e+00, 1.0000e+00, 2.0000e+00, ..., 2.9997e+04, 2.9998e+04,\n",
       "       2.9999e+04])"
      ]
     },
     "execution_count": 11,
     "metadata": {},
     "output_type": "execute_result"
    }
   ],
   "source": [
    "f.samples"
   ]
  },
  {
   "cell_type": "code",
   "execution_count": 12,
   "metadata": {},
   "outputs": [
    {
     "data": {
      "text/plain": [
       "30000"
      ]
     },
     "execution_count": 12,
     "metadata": {},
     "output_type": "execute_result"
    }
   ],
   "source": [
    "len(f.samples)"
   ]
  },
  {
   "cell_type": "code",
   "execution_count": 13,
   "metadata": {},
   "outputs": [
    {
     "data": {
      "text/plain": [
       "Trace(traces = 8721, samples = 30000)"
      ]
     },
     "execution_count": 13,
     "metadata": {},
     "output_type": "execute_result"
    }
   ],
   "source": [
    "f.trace"
   ]
  },
  {
   "cell_type": "code",
   "execution_count": 14,
   "metadata": {},
   "outputs": [
    {
     "data": {
      "text/plain": [
       "30000"
      ]
     },
     "execution_count": 14,
     "metadata": {},
     "output_type": "execute_result"
    }
   ],
   "source": [
    "f.trace.shape"
   ]
  },
  {
   "cell_type": "markdown",
   "metadata": {},
   "source": [
    "Converting the datetime of the first trace in the file to Python's datetime:"
   ]
  },
  {
   "cell_type": "code",
   "execution_count": 15,
   "metadata": {},
   "outputs": [
    {
     "data": {
      "text/plain": [
       "'UTC Timestamp of first sample: 26-Mar-2016 00:11:45.133759819'"
      ]
     },
     "execution_count": 15,
     "metadata": {},
     "output_type": "execute_result"
    }
   ],
   "source": [
    "hdr['C09']"
   ]
  },
  {
   "cell_type": "code",
   "execution_count": 16,
   "metadata": {},
   "outputs": [
    {
     "data": {
      "text/plain": [
       "'26-Mar-2016 00:11:45.133759819Z'"
      ]
     },
     "execution_count": 16,
     "metadata": {},
     "output_type": "execute_result"
    }
   ],
   "source": [
    "dt_str = re.match('UTC Timestamp of first sample: (.+)$', hdr['C09']).group(1) + 'Z'\n",
    "dt_str"
   ]
  },
  {
   "cell_type": "code",
   "execution_count": 17,
   "metadata": {},
   "outputs": [],
   "source": [
    "import dateutil"
   ]
  },
  {
   "cell_type": "code",
   "execution_count": 18,
   "metadata": {},
   "outputs": [],
   "source": [
    "dt = dateutil.parser.parse(dt_str)"
   ]
  },
  {
   "cell_type": "code",
   "execution_count": 19,
   "metadata": {},
   "outputs": [
    {
     "data": {
      "text/plain": [
       "datetime.datetime(2016, 3, 26, 0, 11, 45, 133759, tzinfo=tzutc())"
      ]
     },
     "execution_count": 19,
     "metadata": {},
     "output_type": "execute_result"
    }
   ],
   "source": [
    "dt"
   ]
  },
  {
   "cell_type": "code",
   "execution_count": 20,
   "metadata": {},
   "outputs": [
    {
     "data": {
      "text/plain": [
       "tzutc()"
      ]
     },
     "execution_count": 20,
     "metadata": {},
     "output_type": "execute_result"
    }
   ],
   "source": [
    "dt.tzinfo"
   ]
  },
  {
   "cell_type": "code",
   "execution_count": 21,
   "metadata": {},
   "outputs": [
    {
     "data": {
      "text/plain": [
       "1458951105.133759"
      ]
     },
     "execution_count": 21,
     "metadata": {},
     "output_type": "execute_result"
    }
   ],
   "source": [
    "dt.timestamp()"
   ]
  },
  {
   "cell_type": "code",
   "execution_count": 22,
   "metadata": {},
   "outputs": [],
   "source": [
    "from datetime import datetime"
   ]
  },
  {
   "cell_type": "code",
   "execution_count": 23,
   "metadata": {},
   "outputs": [
    {
     "data": {
      "text/plain": [
       "'2019-06-13T15:29:46.926235'"
      ]
     },
     "execution_count": 23,
     "metadata": {},
     "output_type": "execute_result"
    }
   ],
   "source": [
    "datetime.utcnow().isoformat(timespec='microseconds')"
   ]
  },
  {
   "cell_type": "code",
   "execution_count": 24,
   "metadata": {},
   "outputs": [
    {
     "data": {
      "text/plain": [
       "array([   0,    1,    2, ..., 8718, 8719, 8720], dtype=uint32)"
      ]
     },
     "execution_count": 24,
     "metadata": {},
     "output_type": "execute_result"
    }
   ],
   "source": [
    "np.arange(f.tracecount, dtype=np.uint32)"
   ]
  },
  {
   "cell_type": "code",
   "execution_count": 25,
   "metadata": {},
   "outputs": [],
   "source": [
    "cvrc = np.genfromtxt('/Users/ajelenak/Downloads/Horizontal_DAS_DTS_UTM_LatLon_Coordinates.csv',\n",
    "                     dtype=np.dtype('float32'),\n",
    "                     skip_header=2,\n",
    "                     delimiter=',',\n",
    "                     usecols=(0, 1, 2, 3),\n",
    "                     names=('channel', 'x', 'y', 'z'))"
   ]
  },
  {
   "cell_type": "code",
   "execution_count": 26,
   "metadata": {},
   "outputs": [
    {
     "data": {
      "text/plain": [
       "array([( -20., 0., 0., 0.), ( -19., 0., 0., 0.), ( -18., 0., 0., 0.), ...,\n",
       "       (8698., 0., 0., 0.), (8699., 0., 0., 0.), (8700., 0., 0., 0.)],\n",
       "      dtype=[('channel', '<f4'), ('x', '<f4'), ('y', '<f4'), ('z', '<f4')])"
      ]
     },
     "execution_count": 26,
     "metadata": {},
     "output_type": "execute_result"
    }
   ],
   "source": [
    "cvrc"
   ]
  },
  {
   "cell_type": "code",
   "execution_count": 27,
   "metadata": {},
   "outputs": [
    {
     "data": {
      "text/plain": [
       "(8721,)"
      ]
     },
     "execution_count": 27,
     "metadata": {},
     "output_type": "execute_result"
    }
   ],
   "source": [
    "cvrc.shape"
   ]
  },
  {
   "cell_type": "code",
   "execution_count": 28,
   "metadata": {},
   "outputs": [
    {
     "data": {
      "text/plain": [
       "(1947., 328397.38, 4408088.5, 1241.899)"
      ]
     },
     "execution_count": 28,
     "metadata": {},
     "output_type": "execute_result"
    }
   ],
   "source": [
    "cvrc[1967]"
   ]
  },
  {
   "cell_type": "code",
   "execution_count": 29,
   "metadata": {},
   "outputs": [
    {
     "data": {
      "text/plain": [
       "array([ -20,  -19,  -18, ..., 8698, 8699, 8700], dtype=int16)"
      ]
     },
     "execution_count": 29,
     "metadata": {},
     "output_type": "execute_result"
    }
   ],
   "source": [
    "cvrc['channel'].astype(np.dtype('int16'))"
   ]
  },
  {
   "cell_type": "code",
   "execution_count": 30,
   "metadata": {},
   "outputs": [
    {
     "data": {
      "text/plain": [
       "'Sampling Interval (us): 1000'"
      ]
     },
     "execution_count": 30,
     "metadata": {},
     "output_type": "execute_result"
    }
   ],
   "source": [
    "hdr['C16']"
   ]
  },
  {
   "cell_type": "code",
   "execution_count": 31,
   "metadata": {},
   "outputs": [
    {
     "data": {
      "text/plain": [
       "'1000'"
      ]
     },
     "execution_count": 31,
     "metadata": {},
     "output_type": "execute_result"
    }
   ],
   "source": [
    "re.match('Sampling Interval \\(us\\): (\\d+)$', hdr['C16']).group(1)"
   ]
  },
  {
   "cell_type": "code",
   "execution_count": 32,
   "metadata": {},
   "outputs": [],
   "source": [
    "x = segyio.tools.collect(f.trace[:])"
   ]
  },
  {
   "cell_type": "code",
   "execution_count": 33,
   "metadata": {},
   "outputs": [
    {
     "data": {
      "text/plain": [
       "(8721, 30000)"
      ]
     },
     "execution_count": 33,
     "metadata": {},
     "output_type": "execute_result"
    }
   ],
   "source": [
    "x.shape"
   ]
  },
  {
   "cell_type": "code",
   "execution_count": 34,
   "metadata": {},
   "outputs": [
    {
     "data": {
      "text/plain": [
       "(2, 1)"
      ]
     },
     "execution_count": 34,
     "metadata": {},
     "output_type": "execute_result"
    }
   ],
   "source": [
    "(1, 2)[::-1]"
   ]
  },
  {
   "cell_type": "code",
   "execution_count": 35,
   "metadata": {},
   "outputs": [
    {
     "data": {
      "text/plain": [
       "(30000, 8721)"
      ]
     },
     "execution_count": 35,
     "metadata": {},
     "output_type": "execute_result"
    }
   ],
   "source": [
    "(f.trace.shape, f.tracecount)"
   ]
  },
  {
   "cell_type": "code",
   "execution_count": 36,
   "metadata": {},
   "outputs": [
    {
     "data": {
      "text/plain": [
       "'2016-03-26T00:11:46'"
      ]
     },
     "execution_count": 36,
     "metadata": {},
     "output_type": "execute_result"
    }
   ],
   "source": [
    "datetime.utcfromtimestamp(np.ceil(1458951105.133759)).isoformat(timespec='seconds')"
   ]
  },
  {
   "cell_type": "code",
   "execution_count": 37,
   "metadata": {},
   "outputs": [
    {
     "data": {
      "text/plain": [
       "datetime.datetime(2016, 3, 26, 0, 11, 45, 133759, tzinfo=tzutc())"
      ]
     },
     "execution_count": 37,
     "metadata": {},
     "output_type": "execute_result"
    }
   ],
   "source": [
    "dt"
   ]
  },
  {
   "cell_type": "code",
   "execution_count": 38,
   "metadata": {},
   "outputs": [
    {
     "data": {
      "text/plain": [
       "(array([   0,    1,    2,    3,    4,    5,    6,    7,    8,    9,   10,\n",
       "          11,   12,   13,   14,   15,   16,   17,   18,   19,   20,   21,\n",
       "          22,   23,   24,   25,   26,   27,   28,   29,   30,   31,   32,\n",
       "          33,   34,   35,   36,   37,   38,   39,   40,   41,   42,   43,\n",
       "          44,   45,   46,   47,   48,   49, 8671, 8672, 8673, 8674, 8675,\n",
       "        8676, 8677, 8678, 8679, 8680, 8681, 8682, 8683, 8684, 8685, 8686,\n",
       "        8687, 8688, 8689, 8690, 8691, 8692, 8693, 8694, 8695, 8696, 8697,\n",
       "        8698, 8699, 8700, 8701, 8702, 8703, 8704, 8705, 8706, 8707, 8708,\n",
       "        8709, 8710, 8711, 8712, 8713, 8714, 8715, 8716, 8717, 8718, 8719,\n",
       "        8720]),)"
      ]
     },
     "execution_count": 38,
     "metadata": {},
     "output_type": "execute_result"
    }
   ],
   "source": [
    "zero_elems = np.where(cvrc['x'] == 0)\n",
    "zero_elems"
   ]
  },
  {
   "cell_type": "code",
   "execution_count": 39,
   "metadata": {},
   "outputs": [],
   "source": [
    "cvrc['x'][zero_elems] = np.nan"
   ]
  },
  {
   "cell_type": "code",
   "execution_count": 40,
   "metadata": {},
   "outputs": [
    {
     "data": {
      "text/plain": [
       "array([      nan,       nan,       nan,       nan,       nan,       nan,\n",
       "             nan,       nan,       nan,       nan,       nan,       nan,\n",
       "             nan,       nan,       nan,       nan,       nan,       nan,\n",
       "             nan,       nan,       nan,       nan,       nan,       nan,\n",
       "             nan,       nan,       nan,       nan,       nan,       nan,\n",
       "             nan,       nan,       nan,       nan,       nan,       nan,\n",
       "             nan,       nan,       nan,       nan,       nan,       nan,\n",
       "             nan,       nan,       nan,       nan,       nan,       nan,\n",
       "             nan,       nan, 327809.78], dtype=float32)"
      ]
     },
     "execution_count": 40,
     "metadata": {},
     "output_type": "execute_result"
    }
   ],
   "source": [
    "cvrc['x'][:51]"
   ]
  },
  {
   "cell_type": "code",
   "execution_count": 41,
   "metadata": {},
   "outputs": [
    {
     "data": {
      "text/plain": [
       "array([(8650., 329135.4, 4408562.5, 1261.511),\n",
       "       (8651.,      nan,       0. ,    0.   ),\n",
       "       (8652.,      nan,       0. ,    0.   ),\n",
       "       (8653.,      nan,       0. ,    0.   ),\n",
       "       (8654.,      nan,       0. ,    0.   ),\n",
       "       (8655.,      nan,       0. ,    0.   ),\n",
       "       (8656.,      nan,       0. ,    0.   ),\n",
       "       (8657.,      nan,       0. ,    0.   ),\n",
       "       (8658.,      nan,       0. ,    0.   ),\n",
       "       (8659.,      nan,       0. ,    0.   ),\n",
       "       (8660.,      nan,       0. ,    0.   ),\n",
       "       (8661.,      nan,       0. ,    0.   ),\n",
       "       (8662.,      nan,       0. ,    0.   ),\n",
       "       (8663.,      nan,       0. ,    0.   ),\n",
       "       (8664.,      nan,       0. ,    0.   ),\n",
       "       (8665.,      nan,       0. ,    0.   ),\n",
       "       (8666.,      nan,       0. ,    0.   ),\n",
       "       (8667.,      nan,       0. ,    0.   ),\n",
       "       (8668.,      nan,       0. ,    0.   ),\n",
       "       (8669.,      nan,       0. ,    0.   ),\n",
       "       (8670.,      nan,       0. ,    0.   ),\n",
       "       (8671.,      nan,       0. ,    0.   ),\n",
       "       (8672.,      nan,       0. ,    0.   ),\n",
       "       (8673.,      nan,       0. ,    0.   ),\n",
       "       (8674.,      nan,       0. ,    0.   ),\n",
       "       (8675.,      nan,       0. ,    0.   ),\n",
       "       (8676.,      nan,       0. ,    0.   ),\n",
       "       (8677.,      nan,       0. ,    0.   ),\n",
       "       (8678.,      nan,       0. ,    0.   ),\n",
       "       (8679.,      nan,       0. ,    0.   ),\n",
       "       (8680.,      nan,       0. ,    0.   ),\n",
       "       (8681.,      nan,       0. ,    0.   ),\n",
       "       (8682.,      nan,       0. ,    0.   ),\n",
       "       (8683.,      nan,       0. ,    0.   ),\n",
       "       (8684.,      nan,       0. ,    0.   ),\n",
       "       (8685.,      nan,       0. ,    0.   ),\n",
       "       (8686.,      nan,       0. ,    0.   ),\n",
       "       (8687.,      nan,       0. ,    0.   ),\n",
       "       (8688.,      nan,       0. ,    0.   ),\n",
       "       (8689.,      nan,       0. ,    0.   ),\n",
       "       (8690.,      nan,       0. ,    0.   ),\n",
       "       (8691.,      nan,       0. ,    0.   ),\n",
       "       (8692.,      nan,       0. ,    0.   ),\n",
       "       (8693.,      nan,       0. ,    0.   ),\n",
       "       (8694.,      nan,       0. ,    0.   ),\n",
       "       (8695.,      nan,       0. ,    0.   ),\n",
       "       (8696.,      nan,       0. ,    0.   ),\n",
       "       (8697.,      nan,       0. ,    0.   ),\n",
       "       (8698.,      nan,       0. ,    0.   ),\n",
       "       (8699.,      nan,       0. ,    0.   ),\n",
       "       (8700.,      nan,       0. ,    0.   )],\n",
       "      dtype=[('channel', '<f4'), ('x', '<f4'), ('y', '<f4'), ('z', '<f4')])"
      ]
     },
     "execution_count": 41,
     "metadata": {},
     "output_type": "execute_result"
    }
   ],
   "source": [
    "cvrc[8670:]"
   ]
  },
  {
   "cell_type": "code",
   "execution_count": 42,
   "metadata": {},
   "outputs": [
    {
     "data": {
      "text/plain": [
       "329135.4"
      ]
     },
     "execution_count": 42,
     "metadata": {},
     "output_type": "execute_result"
    }
   ],
   "source": [
    "np.nanmax(cvrc['x'])"
   ]
  },
  {
   "cell_type": "code",
   "execution_count": 43,
   "metadata": {},
   "outputs": [
    {
     "data": {
      "text/plain": [
       "327805.47"
      ]
     },
     "execution_count": 43,
     "metadata": {},
     "output_type": "execute_result"
    }
   ],
   "source": [
    "np.nanmin(cvrc['x'])"
   ]
  },
  {
   "cell_type": "code",
   "execution_count": null,
   "metadata": {},
   "outputs": [],
   "source": []
  }
 ],
 "metadata": {
  "kernelspec": {
   "display_name": "Python 3",
   "language": "python",
   "name": "python3"
  },
  "language_info": {
   "codemirror_mode": {
    "name": "ipython",
    "version": 3
   },
   "file_extension": ".py",
   "mimetype": "text/x-python",
   "name": "python",
   "nbconvert_exporter": "python",
   "pygments_lexer": "ipython3",
   "version": "3.6.8"
  }
 },
 "nbformat": 4,
 "nbformat_minor": 2
}
