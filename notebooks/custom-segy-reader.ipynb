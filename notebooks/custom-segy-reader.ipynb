{
 "cells": [
  {
   "cell_type": "markdown",
   "metadata": {},
   "source": [
    "# Testing the Custom MEES SEG-Y Reader\n",
    "\n",
    "The Python code below was received from the researcher who collected and disseminates the MEES data (http://www.mseel.org/research/)."
   ]
  },
  {
   "cell_type": "code",
   "execution_count": 1,
   "metadata": {},
   "outputs": [],
   "source": [
    "import numpy as np\n",
    "from numpy import mean, sqrt, square, arange\n",
    "import os\n",
    "import re\n",
    "import glob\n",
    "from struct import unpack"
   ]
  },
  {
   "cell_type": "code",
   "execution_count": 2,
   "metadata": {},
   "outputs": [],
   "source": [
    "def ibm2ieee(ibm):\n",
    "    if ibm == 0:\n",
    "        return 0.0\n",
    "    sign = ibm >> 31 & 0x01\n",
    "    exponent = ibm >> 24 & 0x7f\n",
    "    mantissa = (ibm & 0x00ffffff) / float(pow(2, 24))\n",
    "    return (1 - 2 * sign) * mantissa * pow(16, exponent - 64)"
   ]
  },
  {
   "cell_type": "code",
   "execution_count": 3,
   "metadata": {},
   "outputs": [],
   "source": [
    "segy_file = '/Users/ajelenak/Downloads/NNE_MIP3H_v00001_NNE_MW3H_TW3H_S02F_20151107_052552_3_SegyPhase.sgy'"
   ]
  },
  {
   "cell_type": "code",
   "execution_count": 4,
   "metadata": {},
   "outputs": [],
   "source": [
    "with open(segy_file, 'rb') as f:\n",
    "    segy_data = f.read()"
   ]
  },
  {
   "cell_type": "code",
   "execution_count": 5,
   "metadata": {},
   "outputs": [
    {
     "data": {
      "text/plain": [
       "118441921"
      ]
     },
     "execution_count": 5,
     "metadata": {},
     "output_type": "execute_result"
    }
   ],
   "source": [
    "len(segy_data)"
   ]
  },
  {
   "cell_type": "code",
   "execution_count": 6,
   "metadata": {},
   "outputs": [
    {
     "data": {
      "text/plain": [
       "'C 1 CLIENT North East Natural NNE SCHLUMBERGER CREW NO Pittsburg................C 2 WELL MIP3H LOCATION Morgantown West Virginia................................C 3 1 November 2015 OBSERVER Dowdell/Miller.....................................C 4 INSTRUMENT: SLB HDVS   SERIAL NO ENP26505...................................C 5 493 TRACES/RECORD   0 AUXILIARY TRACES/RECORD...............................C 6 SAMPLE INTERVAL 500 SAMPLES/TRACE  60000....................................C 7 RECORDING FORMAT 1..........................................................C 8.............................................................................C 9 GAIN  TYPE: 0...............................................................C10 FILTERS: ALIAS 0 HZ, NOTCH 0 HZ, BAND 0 HZ, SLOPE 0 DB/OCT..................C11 SOURCE: 0...................................................................C12 PATTERN:   LENGTH       WIDTH...............................................C13 SWEEP: START 0 HZ END 0 HZ  LENGTH 0 MS.....................................C14 TAPER: START 0   MS END 0 MS 0 TYPE.........................................C15 CABLE: MIN 0 MAX 0 INTERVAL 0...............................................C16 UNITS: 2....................................................................C17 MAP PROJECTION ZONE ID 0 COORDINATE UNITS 0.................................C18.............................................................................C19 HEADER FORMATING INFORMATION................................................C20.............................................................................C21.............................................................................C22 NUMBER OF SAMPLES...........................................................C23.............................................................................C24   CASE   NUM_SAMPLES(N)               FILE HEADER             TRACE HEADER..C25                                  TYPE   OFFSET  VALUE    TYPE   OFFSET  VALUC26   --------------------------------------------------------------------------C27 1    N <= 32,767                 uint16  3221   N        uint16  115     N..C28 1    N <= 32,767                 uint32  3507   N        uint32  225     N..C29.............................................................................C30 2    32,767 < N <= 65,535        uint16  3221   N        uint16  115     N..C31 2    N <= 32,767                 uint32  3507   N        uint32  225     N..C32.............................................................................C33 3    N > 65,535                  int16   3221 -9999      int16   115   -9999C34 3    N > 65,535                  uint32  3507   N        uint32  225     N..C35   --------------------------------------------------------------------------C36.............................................................................C37.............................................................................C38.............................................................................C39.............................................................................C40.............................................................................'"
      ]
     },
     "execution_count": 6,
     "metadata": {},
     "output_type": "execute_result"
    }
   ],
   "source": [
    "text_hdr=segy_data[:3200].decode('utf-8')\n",
    "text_hdr"
   ]
  },
  {
   "cell_type": "code",
   "execution_count": 7,
   "metadata": {},
   "outputs": [],
   "source": [
    "ijnum = int.from_bytes(segy_data[3200:3204],byteorder='big')\n",
    "ireel = int.from_bytes(segy_data[3208:3212],byteorder='big')\n",
    "itrac = int.from_bytes(segy_data[3212:3214],byteorder='big')\n",
    "isamp = int.from_bytes(segy_data[3216:3218],byteorder='big')\n",
    "nsamp = int.from_bytes(segy_data[3220:3222],byteorder='big')\n",
    "icode = int.from_bytes(segy_data[3224:3226],byteorder='big')\n",
    "imeas = int.from_bytes(segy_data[3254:3256],byteorder='big')\n",
    "iform = int.from_bytes(segy_data[3500:3502],byteorder='big')/256\n",
    "iextd = int.from_bytes(segy_data[3504:3505],byteorder='big')\n",
    "insamp = int.from_bytes(segy_data[3506:3510], byteorder='big')"
   ]
  },
  {
   "cell_type": "code",
   "execution_count": 8,
   "metadata": {},
   "outputs": [
    {
     "data": {
      "text/plain": [
       "1"
      ]
     },
     "execution_count": 8,
     "metadata": {},
     "output_type": "execute_result"
    }
   ],
   "source": [
    "ijnum"
   ]
  },
  {
   "cell_type": "code",
   "execution_count": 9,
   "metadata": {},
   "outputs": [
    {
     "data": {
      "text/plain": [
       "1"
      ]
     },
     "execution_count": 9,
     "metadata": {},
     "output_type": "execute_result"
    }
   ],
   "source": [
    "ireel"
   ]
  },
  {
   "cell_type": "code",
   "execution_count": 10,
   "metadata": {},
   "outputs": [
    {
     "data": {
      "text/plain": [
       "493"
      ]
     },
     "execution_count": 10,
     "metadata": {},
     "output_type": "execute_result"
    }
   ],
   "source": [
    "itrac"
   ]
  },
  {
   "cell_type": "code",
   "execution_count": 11,
   "metadata": {},
   "outputs": [
    {
     "data": {
      "text/plain": [
       "500"
      ]
     },
     "execution_count": 11,
     "metadata": {},
     "output_type": "execute_result"
    }
   ],
   "source": [
    "isamp"
   ]
  },
  {
   "cell_type": "code",
   "execution_count": 12,
   "metadata": {},
   "outputs": [
    {
     "data": {
      "text/plain": [
       "60000"
      ]
     },
     "execution_count": 12,
     "metadata": {},
     "output_type": "execute_result"
    }
   ],
   "source": [
    "nsamp"
   ]
  },
  {
   "cell_type": "code",
   "execution_count": 13,
   "metadata": {},
   "outputs": [
    {
     "data": {
      "text/plain": [
       "1"
      ]
     },
     "execution_count": 13,
     "metadata": {},
     "output_type": "execute_result"
    }
   ],
   "source": [
    "icode"
   ]
  },
  {
   "cell_type": "code",
   "execution_count": 14,
   "metadata": {},
   "outputs": [
    {
     "data": {
      "text/plain": [
       "2"
      ]
     },
     "execution_count": 14,
     "metadata": {},
     "output_type": "execute_result"
    }
   ],
   "source": [
    "imeas"
   ]
  },
  {
   "cell_type": "code",
   "execution_count": 15,
   "metadata": {},
   "outputs": [
    {
     "data": {
      "text/plain": [
       "1.0"
      ]
     },
     "execution_count": 15,
     "metadata": {},
     "output_type": "execute_result"
    }
   ],
   "source": [
    "iform"
   ]
  },
  {
   "cell_type": "code",
   "execution_count": 16,
   "metadata": {},
   "outputs": [
    {
     "data": {
      "text/plain": [
       "0"
      ]
     },
     "execution_count": 16,
     "metadata": {},
     "output_type": "execute_result"
    }
   ],
   "source": [
    "iextd"
   ]
  },
  {
   "cell_type": "code",
   "execution_count": 17,
   "metadata": {},
   "outputs": [
    {
     "data": {
      "text/plain": [
       "60000"
      ]
     },
     "execution_count": 17,
     "metadata": {},
     "output_type": "execute_result"
    }
   ],
   "source": [
    "insamp"
   ]
  },
  {
   "cell_type": "code",
   "execution_count": 23,
   "metadata": {},
   "outputs": [],
   "source": [
    "trace_data=[]\n",
    "trace_depth = np.zeros(shape=(itrac))\n",
    "data_array  = np.zeros(shape=(insamp+1,itrac))\n",
    "for trace in range(1,itrac):\n",
    "    ibyte_start = 3840+(trace-1)*240+(trace-1)*insamp*4\n",
    "    trace_hdr = segy_data[ibyte_start-240:ibyte_start]\n",
    "    irec  = int.from_bytes(trace_hdr[8:12],byteorder='big')\n",
    "    itnum = int.from_bytes(trace_hdr[12:16],byteorder='big')\n",
    "    idpth = int.from_bytes(trace_hdr[40:44],byteorder='big')\n",
    "    iscal = int.from_bytes(trace_hdr[70:72],byteorder='big')\n",
    "    iyear = int.from_bytes(trace_hdr[156:158],byteorder='big')\n",
    "    iday  = int.from_bytes(trace_hdr[158:160],byteorder='big')\n",
    "    ihour = int.from_bytes(trace_hdr[160:162],byteorder='big')\n",
    "    imin  = int.from_bytes(trace_hdr[162:164],byteorder='big')\n",
    "    isec  = int.from_bytes(trace_hdr[164:166],byteorder='big')\n",
    "    icodt = int.from_bytes(trace_hdr[166:168],byteorder='big')\n",
    "    insamp= int.from_bytes(trace_hdr[224:228],byteorder='big')\n",
    "    iusec = int.from_bytes(trace_hdr[232:236],byteorder='big')\n",
    "    ## print(trace,idpth,iyear,iday,ihour,imin,isec,iusec,insamp)\n",
    "    trace_depth[trace] =(idpth/iscal)\n",
    "    for idata in range (ibyte_start, ibyte_start+(insamp*4),4):\n",
    "        ibm=int.from_bytes(segy_data[idata:idata+4],byteorder='big')\n",
    "        trace_data.append(ibm2ieee(ibm))\n",
    "    data_array[1:insamp,trace]=np.array(trace_data[1:insamp])\n",
    "    trace_data = []"
   ]
  },
  {
   "cell_type": "code",
   "execution_count": 26,
   "metadata": {},
   "outputs": [
    {
     "data": {
      "text/plain": [
       "numpy.ndarray"
      ]
     },
     "execution_count": 26,
     "metadata": {},
     "output_type": "execute_result"
    }
   ],
   "source": [
    "type(data_array)"
   ]
  },
  {
   "cell_type": "code",
   "execution_count": 27,
   "metadata": {},
   "outputs": [
    {
     "data": {
      "text/plain": [
       "(60001, 493)"
      ]
     },
     "execution_count": 27,
     "metadata": {},
     "output_type": "execute_result"
    }
   ],
   "source": [
    "data_array.shape"
   ]
  },
  {
   "cell_type": "code",
   "execution_count": 29,
   "metadata": {},
   "outputs": [
    {
     "data": {
      "text/plain": [
       "0.0"
      ]
     },
     "execution_count": 29,
     "metadata": {},
     "output_type": "execute_result"
    }
   ],
   "source": [
    "data_array[0,:]."
   ]
  },
  {
   "cell_type": "code",
   "execution_count": 30,
   "metadata": {},
   "outputs": [
    {
     "data": {
      "text/plain": [
       "array([ 0.00000000e+00, -1.75561581e-04, -1.06257663e-04,  1.23649617e-04,\n",
       "       -1.81966374e-04,  1.88086124e-05, -8.01474089e-05, -7.93197833e-05,\n",
       "        2.75797676e-04, -6.49049355e-07,  1.61770979e-04, -5.24629286e-05,\n",
       "        4.51734959e-05,  2.32064776e-04, -1.37439070e-04, -3.22235748e-04,\n",
       "        5.37919259e-05,  2.75401631e-04,  6.01294450e-05,  1.18622804e-04,\n",
       "       -1.25252154e-06, -2.08995480e-04,  2.82609370e-04, -3.67563043e-05,\n",
       "       -6.90268789e-05, -1.03080121e-04, -4.63209348e-04, -1.41670651e-04,\n",
       "        5.70092350e-04,  8.06291791e-05,  1.55414018e-05, -1.19148957e-04,\n",
       "        2.04071766e-04,  9.30770329e-06, -4.19739517e-05,  1.23676931e-04,\n",
       "        6.94903804e-07, -6.76773197e-05,  5.18362212e-05,  7.47603190e-05,\n",
       "        1.53624715e-04,  1.85516546e-05, -2.99426960e-04, -1.62274635e-04,\n",
       "       -5.88976400e-05, -1.06105028e-04,  1.41542609e-04, -2.59330318e-06,\n",
       "       -3.24602297e-05, -4.59873991e-06, -2.28521414e-04,  2.47437973e-04,\n",
       "       -2.21106893e-05,  1.39543103e-04, -2.26376505e-04, -2.45828647e-04,\n",
       "        3.71661372e-06,  1.53599918e-04,  1.42535413e-04, -1.84658420e-05,\n",
       "        1.36531293e-04,  1.16873780e-04, -3.03041597e-05, -2.38412147e-04,\n",
       "        2.18213492e-04, -2.85235092e-06, -2.56075989e-04,  1.82084070e-04,\n",
       "        9.75841976e-05, -1.73995373e-04,  9.62845952e-05,  1.44078091e-04,\n",
       "       -5.33241779e-04, -4.43353565e-06,  3.50835500e-04,  1.57796181e-04,\n",
       "        1.04551495e-04, -1.04119536e-04, -6.36629120e-05,  1.12904061e-04,\n",
       "       -2.15498105e-04,  1.35990864e-04,  3.52546573e-04,  1.64270925e-04,\n",
       "        4.23006481e-04, -9.18491860e-05,  6.34323078e-05, -3.95310635e-05,\n",
       "        1.13647257e-05, -2.83210771e-04,  5.25081705e-05,  2.59711873e-04,\n",
       "        2.47113203e-05,  2.36682754e-04,  4.98055397e-06, -1.03434082e-04,\n",
       "       -6.55872718e-05,  2.33038532e-04,  1.54237074e-04, -1.95196364e-04,\n",
       "        2.35813961e-04,  1.70882267e-05, -2.58624088e-04,  4.13352827e-05,\n",
       "       -1.67902617e-04, -1.01081721e-04, -5.65222435e-05,  4.82107134e-05,\n",
       "        6.54326577e-05,  2.04159791e-04,  2.81404937e-04, -1.24479848e-04,\n",
       "        1.58990879e-05,  9.99513140e-05, -5.30038029e-04, -1.35054870e-04,\n",
       "        1.76858375e-04,  1.05013954e-04,  2.70005548e-04,  2.94304686e-04,\n",
       "        2.28544013e-04, -3.14516248e-04, -1.73299864e-04, -2.74041202e-04,\n",
       "       -1.54821289e-04, -6.60354544e-06,  1.37581272e-04,  2.81487359e-04,\n",
       "       -1.01020792e-04, -5.42855851e-05, -2.99307576e-05, -7.40507094e-05,\n",
       "       -4.78354341e-05,  1.06766538e-05,  1.26987114e-04, -5.32046834e-05,\n",
       "       -9.02608735e-05,  9.15120472e-06,  6.57171186e-05, -6.95039635e-05,\n",
       "       -2.63047870e-04, -9.07339854e-05,  1.25658029e-04, -2.10088547e-04,\n",
       "        3.43918236e-06, -9.53871058e-05, -5.92768629e-05,  1.28766638e-04,\n",
       "        5.47189993e-05,  1.05973857e-04,  4.59707575e-04, -2.54324637e-04,\n",
       "       -6.46508764e-04,  1.57168077e-04,  8.73409590e-05,  1.34601592e-04,\n",
       "        3.57022975e-04,  2.02944648e-05,  1.62238546e-04,  9.67192318e-05,\n",
       "        4.82214964e-05, -1.82028307e-04, -4.79450217e-04, -1.17628704e-04,\n",
       "        2.11965526e-05,  3.72230308e-04, -5.19757486e-06, -4.54031579e-06,\n",
       "       -9.01370513e-05,  1.34322065e-04, -1.57523609e-04, -3.60293314e-04,\n",
       "        5.49726392e-05,  5.97826205e-04, -8.90799311e-06,  1.35790877e-04,\n",
       "       -1.13942486e-04, -4.25496837e-04, -1.15276693e-04,  6.46858971e-05,\n",
       "        4.06644307e-04,  1.32734538e-04, -1.17910444e-04, -1.72817527e-05,\n",
       "        2.49712029e-04, -1.01326616e-04, -9.23238258e-05, -2.77398154e-04,\n",
       "       -1.56406517e-04, -1.31232096e-04,  2.11230261e-04,  1.05431813e-04,\n",
       "        4.39771917e-04,  7.73534412e-05, -3.03370878e-04, -7.90329068e-07,\n",
       "        3.32536874e-04,  5.11521066e-05,  2.05828255e-04,  5.08413541e-06,\n",
       "        1.31517038e-04, -9.05197958e-05, -1.28612504e-04, -3.56932636e-04,\n",
       "       -1.65847494e-04,  4.42651100e-04, -2.45730625e-04, -1.27976382e-04,\n",
       "       -2.45865667e-04, -1.77526541e-04,  3.05962283e-04,  4.09769826e-04,\n",
       "        3.12651973e-05,  8.26426258e-05,  2.59222230e-04,  1.24422542e-04,\n",
       "       -4.33221459e-04, -6.84156403e-05, -2.94844620e-04,  5.24738571e-05,\n",
       "        3.88181536e-04,  9.83206701e-05,  6.36217883e-05,  6.96372153e-05,\n",
       "       -8.69365904e-05, -2.00473587e-05,  9.13657568e-05, -4.27962979e-04,\n",
       "       -5.71677694e-04,  8.19070992e-05,  4.33580950e-04, -7.37261726e-05,\n",
       "       -3.26271867e-04, -3.90814850e-04,  5.54948347e-04,  5.21990005e-04,\n",
       "       -4.11063520e-05, -5.34166975e-06, -2.96829967e-04,  2.10070662e-04,\n",
       "        1.14096852e-04,  1.47448984e-04,  1.14849478e-04, -2.60976609e-04,\n",
       "       -1.56260998e-04,  2.25009688e-04,  1.51625518e-05, -5.22665359e-05,\n",
       "        4.42938763e-05,  5.18098095e-05, -1.55274640e-04,  3.90526984e-05,\n",
       "        3.29906819e-04, -1.63215009e-04, -5.05761709e-04, -9.78330063e-05,\n",
       "        5.17021166e-04,  5.24568837e-04, -4.02687583e-04, -4.42258781e-04,\n",
       "        6.63989922e-05, -6.31290459e-05,  3.00963438e-05,  6.59091020e-05,\n",
       "       -4.47576313e-05,  5.05051412e-06,  3.03844688e-04, -1.82695541e-04,\n",
       "       -1.12662427e-04, -2.96711689e-04,  3.75320669e-04,  6.99505108e-06,\n",
       "       -6.26268302e-05,  1.74367597e-06, -1.23412086e-04, -1.56028153e-04,\n",
       "       -1.43654150e-04,  1.78135189e-04,  3.51942144e-04, -1.93365238e-04,\n",
       "        1.12667782e-04, -1.00391815e-04, -6.17172802e-04,  1.16189389e-04,\n",
       "       -8.44947353e-05, -2.00085866e-04, -1.81340292e-05, -1.11547124e-04,\n",
       "       -4.27118735e-04,  2.07137520e-04,  2.28830962e-04, -2.91747507e-04,\n",
       "        2.91641569e-04,  2.56513944e-04, -1.25285005e-04, -2.41274349e-04,\n",
       "        1.36479881e-04,  1.10431254e-04,  1.95246583e-04,  3.96647025e-04,\n",
       "        3.65416927e-05, -2.23657509e-04,  1.97489469e-04, -2.08792932e-04,\n",
       "        1.11242844e-05, -2.51425663e-04, -1.09601649e-03,  2.73854705e-04,\n",
       "        7.36583956e-04,  2.04438198e-04,  4.98260837e-04, -1.99787173e-05,\n",
       "        2.43557515e-04, -2.30688456e-05, -2.12593921e-04,  1.36638540e-04,\n",
       "        5.92605502e-05, -3.00139189e-04, -2.64720529e-06,  5.10254322e-05,\n",
       "        3.12976772e-05, -1.82474701e-04, -4.29545064e-04, -1.42261597e-05,\n",
       "       -9.56601725e-05,  1.48383275e-04,  4.61322023e-04,  1.54181995e-04,\n",
       "       -3.80983111e-04, -3.25410627e-04,  2.50576064e-04,  1.94800421e-04,\n",
       "        5.50572149e-05, -2.13669846e-05, -9.88719421e-06, -1.24546787e-04,\n",
       "       -3.52284871e-04,  1.47519691e-04, -1.34318965e-04,  3.27390619e-04,\n",
       "       -3.26541252e-04, -1.76771675e-04, -1.73306034e-04,  1.21927558e-04,\n",
       "        2.50150682e-04,  5.78672625e-04, -2.33573490e-04, -5.85052185e-05,\n",
       "       -2.42163354e-04, -3.39251012e-04,  4.05900413e-04,  2.68652337e-04,\n",
       "        4.66968399e-04, -3.16970050e-04, -5.30759571e-04,  2.47293152e-04,\n",
       "        1.71127729e-04,  1.89766622e-04, -3.53495125e-04, -5.11140097e-04,\n",
       "       -2.92958459e-04,  5.57140214e-04, -1.75148787e-04, -2.27966040e-04,\n",
       "        2.16216315e-04,  5.15797641e-04,  2.38983601e-04, -7.56239053e-04,\n",
       "       -5.51839621e-05, -1.00158300e-04, -1.77120048e-04,  4.03075246e-04,\n",
       "        2.47783493e-04, -3.61256767e-04, -2.66484858e-05,  3.18142585e-04,\n",
       "        1.38193194e-04, -3.87252076e-04,  1.52140085e-04, -8.03704315e-05,\n",
       "       -1.54080917e-04,  8.35941028e-05, -2.22303250e-04,  9.20275488e-05,\n",
       "       -1.23878825e-04, -8.07709148e-05, -6.84522965e-05, -4.97638248e-04,\n",
       "       -3.34898505e-05,  3.93567840e-04,  0.00000000e+00,  1.11572052e-04,\n",
       "       -4.97504152e-06,  2.36331107e-05,  5.13270730e-04, -2.28083663e-05,\n",
       "       -3.65751097e-04, -4.37028939e-04,  2.33035011e-04,  6.34074910e-04,\n",
       "       -1.11941670e-04, -1.02076403e-04,  1.87720463e-04,  2.14994463e-04,\n",
       "       -9.31368442e-04, -2.97495164e-04,  1.76224217e-04,  2.80861510e-04,\n",
       "        3.03986599e-05, -2.81774905e-04, -7.46525038e-05,  3.79556092e-04,\n",
       "        4.22317535e-04,  6.89006178e-04,  1.27400999e-05, -2.92213168e-04,\n",
       "        2.61742389e-04,  2.12477244e-04, -1.00996753e-04, -3.40748578e-04,\n",
       "       -4.41958662e-04,  4.39963071e-04,  1.70185755e-04,  1.27738705e-04,\n",
       "        1.50737484e-04,  3.81508842e-04, -2.88535142e-04, -1.14907874e-04,\n",
       "        4.48753126e-04,  4.13310947e-04,  5.27780503e-04,  1.33259571e-03,\n",
       "       -7.12026609e-04, -1.39474650e-04,  4.22404613e-04, -6.11824915e-04,\n",
       "        5.06864628e-04,  6.18824561e-05,  1.16944298e-04,  3.09924129e-04,\n",
       "       -1.35653099e-04, -4.11522342e-04, -2.68450938e-04,  3.31949705e-05,\n",
       "       -2.79649626e-04,  1.52874054e-04,  2.00196664e-04,  1.72431581e-04,\n",
       "       -1.05609908e-03,  7.61027448e-04, -8.48036289e-05, -3.72581650e-04,\n",
       "        1.86155637e-04,  2.66262563e-04,  4.99621965e-04,  3.91620910e-04,\n",
       "       -1.71238687e-04, -4.80456365e-05, -1.86634425e-04,  1.74093075e-04,\n",
       "       -1.36079776e-04,  6.41678693e-04, -1.43263096e-04, -5.42045571e-04,\n",
       "       -1.25895007e-04,  6.79663499e-05,  4.15861141e-04, -4.92768595e-04,\n",
       "       -1.18598618e-04, -3.98150878e-04, -4.49813670e-04,  1.44524500e-03,\n",
       "        5.46550145e-04, -8.96622194e-04, -4.04376537e-04,  6.40682643e-04,\n",
       "        1.37696088e-05, -8.35058891e-05, -9.69926128e-04, -2.44004652e-03,\n",
       "        4.77589434e-04,  1.77075295e-03, -1.27876992e-03, -9.03937966e-04,\n",
       "        6.39035599e-04,  0.00000000e+00,  6.64660940e-04,  6.24756888e-03,\n",
       "       -9.24562337e-04, -1.28324050e-03,  2.86324834e-03, -1.29121426e-03,\n",
       "        8.21167231e-03])"
      ]
     },
     "execution_count": 30,
     "metadata": {},
     "output_type": "execute_result"
    }
   ],
   "source": [
    "np.median(data_array, axis=0)"
   ]
  },
  {
   "cell_type": "code",
   "execution_count": null,
   "metadata": {},
   "outputs": [],
   "source": []
  }
 ],
 "metadata": {
  "kernelspec": {
   "display_name": "Python 3",
   "language": "python",
   "name": "python3"
  },
  "language_info": {
   "codemirror_mode": {
    "name": "ipython",
    "version": 3
   },
   "file_extension": ".py",
   "mimetype": "text/x-python",
   "name": "python",
   "nbconvert_exporter": "python",
   "pygments_lexer": "ipython3",
   "version": "3.6.8"
  }
 },
 "nbformat": 4,
 "nbformat_minor": 2
}
