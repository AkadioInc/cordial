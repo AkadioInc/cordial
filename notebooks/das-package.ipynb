{
 "cells": [
  {
   "cell_type": "markdown",
   "metadata": {},
   "source": [
    "# ``das`` Package Tutorial\n",
    "\n",
    "The ``das`` package is developed by the CoRDIAL project (DOE award number DE-SC0019654) for access and analysis of distributed acoustic sensing (DAS) data stored in the DAS-HDF5 format. The package consists of two modules:\n",
    "\n",
    "* ``DasIo`` for data access\n",
    "* ``DasStream`` for DAS data analysis\n",
    "\n",
    "This notebook explains the current features and capabilities of the ``das`` package."
   ]
  },
  {
   "cell_type": "code",
   "execution_count": 1,
   "metadata": {},
   "outputs": [],
   "source": [
    "from cordial.io import DasIo\n",
    "import obspy"
   ]
  },
  {
   "cell_type": "markdown",
   "metadata": {},
   "source": [
    "The DasIO module enables access to DAS-HDF5 files so is the only one that must be imported. It supports both file system and cloud object store access via the [h5py_switch](https://github.com/ajelenak/h5py_switch) package.\n",
    "\n",
    "Opening a DAS-HDF5 file served by the Kita server in read-only mode:"
   ]
  },
  {
   "cell_type": "markdown",
   "metadata": {},
   "source": [
    "f = DasIo('http://hsdshdflab.hdfgroup.org/home/ajelenak/porotomo-das.h5', mode='r')"
   ]
  },
  {
   "cell_type": "raw",
   "metadata": {},
   "source": [
    "f = DasIo('https://hsdshdflab.hdfgroup.org/CoRDIAL/porotomo-1.h5', 'r', \n",
    "          bucket='cordial-hsds')"
   ]
  },
  {
   "cell_type": "code",
   "execution_count": 2,
   "metadata": {},
   "outputs": [],
   "source": [
    "f = DasIo('https://hsdshdflab.hdfgroup.org/CoRDIAL/PoroTomo-Mar21-quake.h5', 'r', \n",
    "          bucket='cordial-hsds')"
   ]
  },
  {
   "cell_type": "markdown",
   "metadata": {},
   "source": [
    "The file is open now, display some basic information about it:"
   ]
  },
  {
   "cell_type": "code",
   "execution_count": 3,
   "metadata": {},
   "outputs": [
    {
     "data": {
      "text/plain": [
       "<DasIo(\"/CoRDIAL/PoroTomo-Mar21-quake.h5\", \"r\") at 0x7f7cde499b38>"
      ]
     },
     "execution_count": 3,
     "metadata": {},
     "output_type": "execute_result"
    }
   ],
   "source": [
    "f"
   ]
  },
  {
   "cell_type": "markdown",
   "metadata": {},
   "source": [
    "There are a number of properties that describe the file's data.\n",
    "\n",
    "DAS-HDF5 file name:"
   ]
  },
  {
   "cell_type": "code",
   "execution_count": 4,
   "metadata": {},
   "outputs": [
    {
     "data": {
      "text/plain": [
       "'/CoRDIAL/PoroTomo-Mar21-quake.h5'"
      ]
     },
     "execution_count": 4,
     "metadata": {},
     "output_type": "execute_result"
    }
   ],
   "source": [
    "f.filename"
   ]
  },
  {
   "cell_type": "markdown",
   "metadata": {},
   "source": [
    "The number of traces (DAS channels):"
   ]
  },
  {
   "cell_type": "code",
   "execution_count": 5,
   "metadata": {},
   "outputs": [
    {
     "data": {
      "text/plain": [
       "8721"
      ]
     },
     "execution_count": 5,
     "metadata": {},
     "output_type": "execute_result"
    }
   ],
   "source": [
    "f.num_traces"
   ]
  },
  {
   "cell_type": "markdown",
   "metadata": {},
   "source": [
    "The number of time observations:"
   ]
  },
  {
   "cell_type": "code",
   "execution_count": 6,
   "metadata": {},
   "outputs": [
    {
     "data": {
      "text/plain": [
       "14430000"
      ]
     },
     "execution_count": 6,
     "metadata": {},
     "output_type": "execute_result"
    }
   ],
   "source": [
    "f.num_samples"
   ]
  },
  {
   "cell_type": "markdown",
   "metadata": {},
   "source": [
    "Time of the first observation in the file (returns an [obspy.UTCDateTime](http://docs.obspy.org/packages/autogen/obspy.core.utcdatetime.UTCDateTime.html) object):"
   ]
  },
  {
   "cell_type": "code",
   "execution_count": 7,
   "metadata": {},
   "outputs": [
    {
     "data": {
      "text/plain": [
       "2016-03-21T05:00:21.404309Z"
      ]
     },
     "execution_count": 7,
     "metadata": {},
     "output_type": "execute_result"
    }
   ],
   "source": [
    "f.starttime"
   ]
  },
  {
   "cell_type": "markdown",
   "metadata": {},
   "source": [
    "Time of the last observation in the file (returns an [obspy.UTCDateTime](http://docs.obspy.org/packages/autogen/obspy.core.utcdatetime.UTCDateTime.html) object):"
   ]
  },
  {
   "cell_type": "code",
   "execution_count": 8,
   "metadata": {},
   "outputs": [
    {
     "data": {
      "text/plain": [
       "2016-03-21T09:00:51.403309Z"
      ]
     },
     "execution_count": 8,
     "metadata": {},
     "output_type": "execute_result"
    }
   ],
   "source": [
    "f.endtime"
   ]
  },
  {
   "cell_type": "markdown",
   "metadata": {},
   "source": [
    "Trace (DAS channel) identifiers as a numpy.ndarray:"
   ]
  },
  {
   "cell_type": "code",
   "execution_count": 9,
   "metadata": {},
   "outputs": [
    {
     "data": {
      "text/plain": [
       "array([ -20,  -19,  -18, ..., 8698, 8699, 8700], dtype=int32)"
      ]
     },
     "execution_count": 9,
     "metadata": {},
     "output_type": "execute_result"
    }
   ],
   "source": [
    "f.trace_ids"
   ]
  },
  {
   "cell_type": "markdown",
   "metadata": {},
   "source": [
    "DAS instrument identifier:"
   ]
  },
  {
   "cell_type": "code",
   "execution_count": 10,
   "metadata": {},
   "outputs": [
    {
     "data": {
      "text/plain": [
       "'iDAS S/N: iDAS16043'"
      ]
     },
     "execution_count": 10,
     "metadata": {},
     "output_type": "execute_result"
    }
   ],
   "source": [
    "f.instrument"
   ]
  },
  {
   "cell_type": "markdown",
   "metadata": {},
   "source": [
    "DAS data sampling rate in either seconds or Hertz:"
   ]
  },
  {
   "cell_type": "code",
   "execution_count": 11,
   "metadata": {},
   "outputs": [
    {
     "data": {
      "text/plain": [
       "0.001"
      ]
     },
     "execution_count": 11,
     "metadata": {},
     "output_type": "execute_result"
    }
   ],
   "source": [
    "f.sampling_rate_secs"
   ]
  },
  {
   "cell_type": "code",
   "execution_count": 12,
   "metadata": {},
   "outputs": [
    {
     "data": {
      "text/plain": [
       "1000.0"
      ]
     },
     "execution_count": 12,
     "metadata": {},
     "output_type": "execute_result"
    }
   ],
   "source": [
    "f.sampling_rate_Hz"
   ]
  },
  {
   "cell_type": "markdown",
   "metadata": {},
   "source": [
    "The DasIo class supports selecting DAS data via trace (channel) identifiers and/or time of observations. The output is an object of the DasStream class."
   ]
  },
  {
   "cell_type": "code",
   "execution_count": 13,
   "metadata": {},
   "outputs": [
    {
     "name": "stderr",
     "output_type": "stream",
     "text": [
      "/srv/cordial/shared/code/cordial/cordial/io.py:225: RuntimeWarning: Requesting 1080000 time samples\n",
      "  warn(f'Requesting {len(time_idx)} time samples', RuntimeWarning)\n"
     ]
    },
    {
     "name": "stdout",
     "output_type": "stream",
     "text": [
      "CPU times: user 21.7 s, sys: 33.8 s, total: 55.4 s\n",
      "Wall time: 14min 5s\n"
     ]
    }
   ],
   "source": [
    "%time x = f.select(trace=slice(1967, 3425), time=slice('2016-03-21T07:00:00', '2016-03-21T07:18:00'))"
   ]
  },
  {
   "cell_type": "markdown",
   "metadata": {},
   "source": [
    "The DasStream class subclasses the [obspy.Stream](http://docs.obspy.org/packages/autogen/obspy.core.stream.Stream.html) class and is intended for DAS data analysis. New data analysis methods should be added to this class or to a new class which subclasses the DasStream.\n",
    "\n",
    "Basic information about the DasStream object:"
   ]
  },
  {
   "cell_type": "code",
   "execution_count": 14,
   "metadata": {},
   "outputs": [
    {
     "data": {
      "text/plain": [
       "DasStream from \"/CoRDIAL/PoroTomo-Mar21-quake.h5\" at 0x7f7b8ce816d8\n",
       "1459 Trace(s) in Stream:\n",
       "\n",
       "...1967 | 2016-03-21T07:00:00.000309Z - 2016-03-21T07:17:59.999309Z | 1000.0 Hz, 1080000 samples\n",
       "...\n",
       "(1457 other traces)\n",
       "...\n",
       "...3425 | 2016-03-21T07:00:00.000309Z - 2016-03-21T07:17:59.999309Z | 1000.0 Hz, 1080000 samples\n"
      ]
     },
     "execution_count": 14,
     "metadata": {},
     "output_type": "execute_result"
    }
   ],
   "source": [
    "x"
   ]
  },
  {
   "cell_type": "markdown",
   "metadata": {},
   "source": [
    "Trace (DAS channel) identifiers in the DasStream object are available as a numpy.ndarray object:"
   ]
  },
  {
   "cell_type": "code",
   "execution_count": 15,
   "metadata": {},
   "outputs": [
    {
     "data": {
      "text/plain": [
       "array([1967, 1968, 1969, ..., 3423, 3424, 3425], dtype=int32)"
      ]
     },
     "execution_count": 15,
     "metadata": {},
     "output_type": "execute_result"
    }
   ],
   "source": [
    "x.trace_ids"
   ]
  },
  {
   "cell_type": "markdown",
   "metadata": {},
   "source": [
    "The source of the DasStream object's data:"
   ]
  },
  {
   "cell_type": "code",
   "execution_count": 16,
   "metadata": {},
   "outputs": [
    {
     "data": {
      "text/plain": [
       "'/CoRDIAL/PoroTomo-Mar21-quake.h5'"
      ]
     },
     "execution_count": 16,
     "metadata": {},
     "output_type": "execute_result"
    }
   ],
   "source": [
    "x.source"
   ]
  },
  {
   "cell_type": "markdown",
   "metadata": {},
   "source": [
    "Access to the DAS trace data is available via the obspy.Stream/obspy.Trace methods. Below is the actual DAS strain rate of the 16th trace in the DasStream object:"
   ]
  },
  {
   "cell_type": "code",
   "execution_count": 17,
   "metadata": {},
   "outputs": [
    {
     "data": {
      "text/plain": [
       "array([ 0.00121416, -0.00522994, -0.00494717, ...,  0.00322007,\n",
       "        0.00101393, -0.00204339], dtype=float32)"
      ]
     },
     "execution_count": 17,
     "metadata": {},
     "output_type": "execute_result"
    }
   ],
   "source": [
    "x.traces[15].data"
   ]
  },
  {
   "cell_type": "markdown",
   "metadata": {},
   "source": [
    "Selecting DAS data is also possible for a single trace (channel) only and will include all the available time observations:\n",
    "\n",
    "---\n",
    "\n",
    "**WARNING: Do not run the cell below for very large number of time samples.**\n",
    "\n",
    "---"
   ]
  },
  {
   "cell_type": "raw",
   "metadata": {},
   "source": [
    "x = f.select(trace=1967)\n",
    "x.traces"
   ]
  },
  {
   "cell_type": "markdown",
   "metadata": {},
   "source": [
    "Similarly, using a single time value will select all the trace (DAS channel) data. Time values can be obspy.UTCDateTime objects as well. The output will include the time samples surrounding (before and after) the input time instance."
   ]
  },
  {
   "cell_type": "code",
   "execution_count": 18,
   "metadata": {},
   "outputs": [
    {
     "name": "stdout",
     "output_type": "stream",
     "text": [
      "CPU times: user 1.42 s, sys: 0 ns, total: 1.42 s\n",
      "Wall time: 5.83 s\n"
     ]
    },
    {
     "data": {
      "text/plain": [
       "DasStream from \"/CoRDIAL/PoroTomo-Mar21-quake.h5\" at 0x7f7cdd3da470\n",
       "8721 Trace(s) in Stream:\n",
       "\n",
       "...-20 | 2016-03-21T06:39:49.999309Z - 2016-03-21T06:39:50.000309Z | 1000.0 Hz, 2 samples\n",
       "...\n",
       "(8719 other traces)\n",
       "...\n",
       "...8700 | 2016-03-21T06:39:49.999309Z - 2016-03-21T06:39:50.000309Z | 1000.0 Hz, 2 samples\n"
      ]
     },
     "execution_count": 18,
     "metadata": {},
     "output_type": "execute_result"
    }
   ],
   "source": [
    "%time x = f.select(time=obspy.UTCDateTime('2016-03-21T06:39:50'))\n",
    "x"
   ]
  },
  {
   "cell_type": "markdown",
   "metadata": {},
   "source": [
    "It possible to use the traditional syntax for subsetting but care must be taken to apply correct slice selections for each dimension: first dimension is time, second dimension is trace (channel):"
   ]
  },
  {
   "cell_type": "code",
   "execution_count": 19,
   "metadata": {},
   "outputs": [
    {
     "name": "stdout",
     "output_type": "stream",
     "text": [
      "CPU times: user 1.66 s, sys: 650 ms, total: 2.31 s\n",
      "Wall time: 7.32 s\n"
     ]
    },
    {
     "data": {
      "text/plain": [
       "DasStream from \"/CoRDIAL/PoroTomo-Mar21-quake.h5\" at 0x7f7cdd3da898\n",
       "5 Trace(s) in Stream:\n",
       "...3456 | 2016-03-21T07:25:50.000309Z - 2016-03-21T07:35:49.999309Z | 1000.0 Hz, 600000 samples\n",
       "...3466 | 2016-03-21T07:25:50.000309Z - 2016-03-21T07:35:49.999309Z | 1000.0 Hz, 600000 samples\n",
       "...3476 | 2016-03-21T07:25:50.000309Z - 2016-03-21T07:35:49.999309Z | 1000.0 Hz, 600000 samples\n",
       "...3486 | 2016-03-21T07:25:50.000309Z - 2016-03-21T07:35:49.999309Z | 1000.0 Hz, 600000 samples"
      ]
     },
     "execution_count": 19,
     "metadata": {},
     "output_type": "execute_result"
    }
   ],
   "source": [
    "%time x = f['2016-03-21T07:25:50':'2016-03-21T07:35:50', 3456:3500:10]\n",
    "x"
   ]
  },
  {
   "cell_type": "code",
   "execution_count": null,
   "metadata": {},
   "outputs": [],
   "source": []
  }
 ],
 "metadata": {
  "kernelspec": {
   "display_name": "Python 3",
   "language": "python",
   "name": "python3"
  },
  "language_info": {
   "codemirror_mode": {
    "name": "ipython",
    "version": 3
   },
   "file_extension": ".py",
   "mimetype": "text/x-python",
   "name": "python",
   "nbconvert_exporter": "python",
   "pygments_lexer": "ipython3",
   "version": "3.6.7"
  }
 },
 "nbformat": 4,
 "nbformat_minor": 4
}
