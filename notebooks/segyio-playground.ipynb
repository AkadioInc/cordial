{
 "cells": [
  {
   "cell_type": "markdown",
   "metadata": {},
   "source": [
    "# Learning and Testing SEG-Y with `segyio` Python Package"
   ]
  },
  {
   "cell_type": "code",
   "execution_count": 1,
   "metadata": {},
   "outputs": [],
   "source": [
    "import segyio\n",
    "import numpy as np"
   ]
  },
  {
   "cell_type": "code",
   "execution_count": 2,
   "metadata": {},
   "outputs": [],
   "source": [
    "segy_file = '/Users/ajelenak/Downloads/PoroTomo_iDAS16043_160311200818.sgy'"
   ]
  },
  {
   "cell_type": "code",
   "execution_count": 3,
   "metadata": {},
   "outputs": [],
   "source": [
    "f = segyio.open(segy_file, mode='r', strict=False)"
   ]
  },
  {
   "cell_type": "markdown",
   "metadata": {},
   "source": [
    "## Basic Properties"
   ]
  },
  {
   "cell_type": "code",
   "execution_count": 4,
   "metadata": {},
   "outputs": [
    {
     "name": "stdout",
     "output_type": "stream",
     "text": [
      "4-byte IEEE float\n"
     ]
    }
   ],
   "source": [
    "print(f.format)"
   ]
  },
  {
   "cell_type": "code",
   "execution_count": 5,
   "metadata": {},
   "outputs": [
    {
     "data": {
      "text/plain": [
       "bytearray(b'C01 Client: Uni. Wisconsin                                                      C02 Field: PoroTomo                                                             C03 Fibre: Trenched Surface Fibre                                               C04 Data collected by Silixa iDAS, Distributed Fibre Optic Sensor               C05 iDAS S/N: iDAS16043                                                         C06 SEGY Format: Rev.1, IEEE 32bit float, big endian                            C07 Field Recording Filename: BNL_IDAS__160311200818.tdms                       C08 Continuous acquisition data converted to SEGY                               C09 UTC Timestamp of first sample: 11-Mar-2016 20:08:18.862432014               C10                                                                             C11                                                                             C12                                                                             C13 Receiver positions are in true E, N, Elevation (m)                          C14 Number of Traces: 8721                                                      C15 Samples Per Trace: 30000                                                    C16 Sampling Interval (us): 1000                                                C17 Record Length (sec): 30                                                     C18 Measurement Units: Depths = Metres, Coordinates = Metres                    C19                                                                             C20 Trace amplitude is proportional to fibre strain-rate                        C21 For comparison with conventional geophones it is recommended to             C22 time-integrate this data                                                    C23                                                                             C24 Trace Header Byte Positions:                                                C25 41-44: Receiver Elevation (m)                                               C26 81-84: Receiver Easting (m)                                                 C27 85-88: Receiver Northing (m)                                                C28 233-236: Samples per Trace                                                  C29 237-240: Fibre distance from beginning of trench (m)                        C30                                                                             C31                                                                             C32                                                                             C33                                                                             C34                                                                             C35 Binary Header Byte Positions:                                               C36 63-66: Samples per Trace                                                    C37 67-70: Number of Traces in file                                             C38                                                                             C39 Silixa Ltd, 230 Centennial Park, Elstree, UK, WD6 3SN                       C40 End Text Header                                                             ')"
      ]
     },
     "execution_count": 5,
     "metadata": {},
     "output_type": "execute_result"
    }
   ],
   "source": [
    "f.text[0]"
   ]
  },
  {
   "cell_type": "code",
   "execution_count": 6,
   "metadata": {},
   "outputs": [
    {
     "data": {
      "text/plain": [
       "array([0, 0, 0, ..., 0, 0, 0], dtype=int32)"
      ]
     },
     "execution_count": 6,
     "metadata": {},
     "output_type": "execute_result"
    }
   ],
   "source": [
    "f.attributes(segyio.TraceField.SourceX)[:]"
   ]
  },
  {
   "cell_type": "code",
   "execution_count": 7,
   "metadata": {},
   "outputs": [
    {
     "data": {
      "text/plain": [
       "8721"
      ]
     },
     "execution_count": 7,
     "metadata": {},
     "output_type": "execute_result"
    }
   ],
   "source": [
    "f.tracecount"
   ]
  },
  {
   "cell_type": "code",
   "execution_count": 8,
   "metadata": {},
   "outputs": [
    {
     "data": {
      "text/plain": [
       "array([0.0000e+00, 1.0000e+00, 2.0000e+00, ..., 2.9997e+04, 2.9998e+04,\n",
       "       2.9999e+04])"
      ]
     },
     "execution_count": 8,
     "metadata": {},
     "output_type": "execute_result"
    }
   ],
   "source": [
    "f.samples"
   ]
  },
  {
   "cell_type": "code",
   "execution_count": 9,
   "metadata": {},
   "outputs": [
    {
     "data": {
      "text/plain": [
       "Trace(traces = 8721, samples = 30000)"
      ]
     },
     "execution_count": 9,
     "metadata": {},
     "output_type": "execute_result"
    }
   ],
   "source": [
    "f.trace"
   ]
  },
  {
   "cell_type": "code",
   "execution_count": 10,
   "metadata": {},
   "outputs": [
    {
     "data": {
      "text/plain": [
       "array([ 0.02657334,  0.09238194,  0.10524189, ...,  0.00121248,\n",
       "       -0.0014092 , -0.00045777], dtype=float32)"
      ]
     },
     "execution_count": 10,
     "metadata": {},
     "output_type": "execute_result"
    }
   ],
   "source": [
    "f.trace[15]"
   ]
  },
  {
   "cell_type": "code",
   "execution_count": 11,
   "metadata": {},
   "outputs": [
    {
     "name": "stdout",
     "output_type": "stream",
     "text": [
      "None\n"
     ]
    }
   ],
   "source": [
    "print(f.offsets)"
   ]
  },
  {
   "cell_type": "code",
   "execution_count": 12,
   "metadata": {},
   "outputs": [
    {
     "name": "stdout",
     "output_type": "stream",
     "text": [
      "None\n"
     ]
    }
   ],
   "source": [
    "print(f.sorting)"
   ]
  },
  {
   "cell_type": "code",
   "execution_count": 13,
   "metadata": {},
   "outputs": [
    {
     "name": "stdout",
     "output_type": "stream",
     "text": [
      "Available offsets and their corresponding byte value:\n",
      "  TRACE_SEQUENCE_LINE: TRACE_SEQUENCE_LINE\n",
      "  TRACE_SEQUENCE_FILE: TRACE_SEQUENCE_FILE\n",
      "  FieldRecord: FieldRecord\n",
      "  TraceNumber: TraceNumber\n",
      "  EnergySourcePoint: EnergySourcePoint\n",
      "  CDP: CDP\n",
      "  CDP_TRACE: CDP_TRACE\n",
      "  TraceIdentificationCode: TraceIdentificationCode\n",
      "  NSummedTraces: NSummedTraces\n",
      "  NStackedTraces: NStackedTraces\n",
      "  DataUse: DataUse\n",
      "  offset: offset\n",
      "  ReceiverGroupElevation: ReceiverGroupElevation\n",
      "  SourceSurfaceElevation: SourceSurfaceElevation\n",
      "  SourceDepth: SourceDepth\n",
      "  ReceiverDatumElevation: ReceiverDatumElevation\n",
      "  SourceDatumElevation: SourceDatumElevation\n",
      "  SourceWaterDepth: SourceWaterDepth\n",
      "  GroupWaterDepth: GroupWaterDepth\n",
      "  ElevationScalar: ElevationScalar\n",
      "  SourceGroupScalar: SourceGroupScalar\n",
      "  SourceX: SourceX\n",
      "  SourceY: SourceY\n",
      "  GroupX: GroupX\n",
      "  GroupY: GroupY\n",
      "  CoordinateUnits: CoordinateUnits\n",
      "  WeatheringVelocity: WeatheringVelocity\n",
      "  SubWeatheringVelocity: SubWeatheringVelocity\n",
      "  SourceUpholeTime: SourceUpholeTime\n",
      "  GroupUpholeTime: GroupUpholeTime\n",
      "  SourceStaticCorrection: SourceStaticCorrection\n",
      "  GroupStaticCorrection: GroupStaticCorrection\n",
      "  TotalStaticApplied: TotalStaticApplied\n",
      "  LagTimeA: LagTimeA\n",
      "  LagTimeB: LagTimeB\n",
      "  DelayRecordingTime: DelayRecordingTime\n",
      "  MuteTimeStart: MuteTimeStart\n",
      "  MuteTimeEND: MuteTimeEND\n",
      "  TRACE_SAMPLE_COUNT: TRACE_SAMPLE_COUNT\n",
      "  TRACE_SAMPLE_INTERVAL: TRACE_SAMPLE_INTERVAL\n",
      "  GainType: GainType\n",
      "  InstrumentGainConstant: InstrumentGainConstant\n",
      "  InstrumentInitialGain: InstrumentInitialGain\n",
      "  Correlated: Correlated\n",
      "  SweepFrequencyStart: SweepFrequencyStart\n",
      "  SweepFrequencyEnd: SweepFrequencyEnd\n",
      "  SweepLength: SweepLength\n",
      "  SweepType: SweepType\n",
      "  SweepTraceTaperLengthStart: SweepTraceTaperLengthStart\n",
      "  SweepTraceTaperLengthEnd: SweepTraceTaperLengthEnd\n",
      "  TaperType: TaperType\n",
      "  AliasFilterFrequency: AliasFilterFrequency\n",
      "  AliasFilterSlope: AliasFilterSlope\n",
      "  NotchFilterFrequency: NotchFilterFrequency\n",
      "  NotchFilterSlope: NotchFilterSlope\n",
      "  LowCutFrequency: LowCutFrequency\n",
      "  HighCutFrequency: HighCutFrequency\n",
      "  LowCutSlope: LowCutSlope\n",
      "  HighCutSlope: HighCutSlope\n",
      "  YearDataRecorded: YearDataRecorded\n",
      "  DayOfYear: DayOfYear\n",
      "  HourOfDay: HourOfDay\n",
      "  MinuteOfHour: MinuteOfHour\n",
      "  SecondOfMinute: SecondOfMinute\n",
      "  TimeBaseCode: TimeBaseCode\n",
      "  TraceWeightingFactor: TraceWeightingFactor\n",
      "  GeophoneGroupNumberRoll1: GeophoneGroupNumberRoll1\n",
      "  GeophoneGroupNumberFirstTraceOrigField: GeophoneGroupNumberFirstTraceOrigField\n",
      "  GeophoneGroupNumberLastTraceOrigField: GeophoneGroupNumberLastTraceOrigField\n",
      "  GapSize: GapSize\n",
      "  OverTravel: OverTravel\n",
      "  CDP_X: CDP_X\n",
      "  CDP_Y: CDP_Y\n",
      "  INLINE_3D: INLINE_3D\n",
      "  CROSSLINE_3D: CROSSLINE_3D\n",
      "  ShotPoint: ShotPoint\n",
      "  ShotPointScalar: ShotPointScalar\n",
      "  TraceValueMeasurementUnit: TraceValueMeasurementUnit\n",
      "  TransductionConstantMantissa: TransductionConstantMantissa\n",
      "  TransductionConstantPower: TransductionConstantPower\n",
      "  TransductionUnit: TransductionUnit\n",
      "  TraceIdentifier: TraceIdentifier\n",
      "  ScalarTraceHeader: ScalarTraceHeader\n",
      "  SourceType: SourceType\n",
      "  SourceEnergyDirectionMantissa: SourceEnergyDirectionMantissa\n",
      "  SourceEnergyDirectionExponent: SourceEnergyDirectionExponent\n",
      "  SourceMeasurementMantissa: SourceMeasurementMantissa\n",
      "  SourceMeasurementExponent: SourceMeasurementExponent\n",
      "  SourceMeasurementUnit: SourceMeasurementUnit\n",
      "  UnassignedInt1: UnassignedInt1\n",
      "  UnassignedInt2: UnassignedInt2\n"
     ]
    }
   ],
   "source": [
    "print(\"Available offsets and their corresponding byte value:\")\n",
    "for x in segyio.TraceField.enums():\n",
    "    print(\"  {}: {}\".format(str(x), x))"
   ]
  },
  {
   "cell_type": "code",
   "execution_count": 14,
   "metadata": {},
   "outputs": [
    {
     "data": {
      "text/plain": [
       "1000.0"
      ]
     },
     "execution_count": 14,
     "metadata": {},
     "output_type": "execute_result"
    }
   ],
   "source": [
    "segyio.tools.dt(f)"
   ]
  },
  {
   "cell_type": "code",
   "execution_count": 15,
   "metadata": {},
   "outputs": [],
   "source": [
    "meta = segyio.tools.metadata(f)"
   ]
  },
  {
   "cell_type": "code",
   "execution_count": 16,
   "metadata": {},
   "outputs": [
    {
     "data": {
      "text/plain": [
       "8721"
      ]
     },
     "execution_count": 16,
     "metadata": {},
     "output_type": "execute_result"
    }
   ],
   "source": [
    "meta.tracecount"
   ]
  },
  {
   "cell_type": "code",
   "execution_count": 17,
   "metadata": {},
   "outputs": [
    {
     "name": "stdout",
     "output_type": "stream",
     "text": [
      "4-byte IEEE float\n"
     ]
    }
   ],
   "source": [
    "print(meta.format)"
   ]
  },
  {
   "cell_type": "code",
   "execution_count": 18,
   "metadata": {},
   "outputs": [
    {
     "data": {
      "text/plain": [
       "0"
      ]
     },
     "execution_count": 18,
     "metadata": {},
     "output_type": "execute_result"
    }
   ],
   "source": [
    "meta.ext_headers"
   ]
  },
  {
   "cell_type": "code",
   "execution_count": 19,
   "metadata": {},
   "outputs": [
    {
     "data": {
      "text/plain": [
       "189"
      ]
     },
     "execution_count": 19,
     "metadata": {},
     "output_type": "execute_result"
    }
   ],
   "source": [
    "meta.iline"
   ]
  },
  {
   "cell_type": "code",
   "execution_count": 20,
   "metadata": {},
   "outputs": [
    {
     "data": {
      "text/plain": [
       "193"
      ]
     },
     "execution_count": 20,
     "metadata": {},
     "output_type": "execute_result"
    }
   ],
   "source": [
    "meta.xline"
   ]
  },
  {
   "cell_type": "code",
   "execution_count": 21,
   "metadata": {},
   "outputs": [
    {
     "data": {
      "text/plain": [
       "array([0.0000e+00, 1.0000e+00, 2.0000e+00, ..., 2.9997e+04, 2.9998e+04,\n",
       "       2.9999e+04])"
      ]
     },
     "execution_count": 21,
     "metadata": {},
     "output_type": "execute_result"
    }
   ],
   "source": [
    "meta.samples"
   ]
  },
  {
   "cell_type": "code",
   "execution_count": 22,
   "metadata": {},
   "outputs": [
    {
     "data": {
      "text/plain": [
       "(30000,)"
      ]
     },
     "execution_count": 22,
     "metadata": {},
     "output_type": "execute_result"
    }
   ],
   "source": [
    "meta.samples.shape"
   ]
  },
  {
   "cell_type": "code",
   "execution_count": 23,
   "metadata": {},
   "outputs": [
    {
     "name": "stdout",
     "output_type": "stream",
     "text": [
      "None\n"
     ]
    }
   ],
   "source": [
    "print(meta.sorting)"
   ]
  },
  {
   "cell_type": "code",
   "execution_count": 24,
   "metadata": {},
   "outputs": [
    {
     "name": "stdout",
     "output_type": "stream",
     "text": [
      "None\n"
     ]
    }
   ],
   "source": [
    "print(meta.xlines)"
   ]
  },
  {
   "cell_type": "code",
   "execution_count": null,
   "metadata": {},
   "outputs": [],
   "source": []
  }
 ],
 "metadata": {
  "kernelspec": {
   "display_name": "Python 3",
   "language": "python",
   "name": "python3"
  },
  "language_info": {
   "codemirror_mode": {
    "name": "ipython",
    "version": 3
   },
   "file_extension": ".py",
   "mimetype": "text/x-python",
   "name": "python",
   "nbconvert_exporter": "python",
   "pygments_lexer": "ipython3",
   "version": "3.6.8"
  }
 },
 "nbformat": 4,
 "nbformat_minor": 2
}
