{
 "cells": [
  {
   "cell_type": "markdown",
   "metadata": {},
   "source": [
    "# Verify `/das` Dataset Shape in the DAS-HDF5 File Collection\n",
    "\n",
    "Each DAS-HDF5 file is expected to contain DAS data with 30,000 time samples. The code below checks the shape of the `/das` HDF5 dataset in every DAS-HDF5 file and prints out any file where that shape is not (30000, 8721).\n",
    "\n",
    "**Note**: The data access approach here is based on [this](https://gist.github.com/ajelenak/db0d9bf14b7ea4c48acf20249e189c80) gist."
   ]
  },
  {
   "cell_type": "code",
   "execution_count": 1,
   "metadata": {},
   "outputs": [],
   "source": [
    "import s3fs\n",
    "import h5py"
   ]
  },
  {
   "cell_type": "code",
   "execution_count": 2,
   "metadata": {},
   "outputs": [
    {
     "name": "stdout",
     "output_type": "stream",
     "text": [
      "<File-like object S3FileSystem, cordial1/repack/DAS-HDF5/PoroTomo/20160321/PoroTomo_iDAS16043_160321141721.h5>:/das shape = (7696, 8721)\n",
      "<File-like object S3FileSystem, cordial1/repack/DAS-HDF5/PoroTomo/20160321/PoroTomo_iDAS16043_160321154434.h5>:/das shape = (24824, 8721)\n",
      "CPU times: user 3min 55s, sys: 19.8 s, total: 4min 15s\n",
      "Wall time: 49min 16s\n"
     ]
    }
   ],
   "source": [
    "%%time\n",
    "s3 = s3fs.S3FileSystem(anon=False, default_fill_cache=False)\n",
    "walker = s3.walk('cordial1/repack/DAS-HDF5/PoroTomo/')\n",
    "for o in walker:\n",
    "    # \"o\" is a tuple; its 3rd element is a list of found files under a \"directory\"\n",
    "    if len(o[2]) == 0:\n",
    "        continue\n",
    "        \n",
    "    # We have some files, let's process...\n",
    "    for name in o[2]:\n",
    "        s3obj = s3.open(f'{o[0]}/{name}', mode='rb')\n",
    "        with h5py.File(s3obj, mode='r', driver='fileobj') as f:\n",
    "            if f['das'].shape != (30000, 8721):\n",
    "                print(f\"{f.filename}:/das shape = {f['das'].shape}\")"
   ]
  },
  {
   "cell_type": "markdown",
   "metadata": {},
   "source": [
    "The total run time is reported to be 49 minutes and 16 seconds. There are 8,467 DAS-HDF5 files. The time per on files is:"
   ]
  },
  {
   "cell_type": "code",
   "execution_count": 3,
   "metadata": {},
   "outputs": [
    {
     "data": {
      "text/plain": [
       "0.34912011338136295"
      ]
     },
     "execution_count": 3,
     "metadata": {},
     "output_type": "execute_result"
    }
   ],
   "source": [
    "(49 * 60 + 16)/8467"
   ]
  },
  {
   "cell_type": "markdown",
   "metadata": {},
   "source": [
    "approx. 0.35 seconds per file. This is **much quicker** than having to download the files from S3 and check their `/das` dataset."
   ]
  }
 ],
 "metadata": {
  "kernelspec": {
   "display_name": "Python 3",
   "language": "python",
   "name": "python3"
  },
  "language_info": {
   "codemirror_mode": {
    "name": "ipython",
    "version": 3
   },
   "file_extension": ".py",
   "mimetype": "text/x-python",
   "name": "python",
   "nbconvert_exporter": "python",
   "pygments_lexer": "ipython3",
   "version": "3.6.7"
  }
 },
 "nbformat": 4,
 "nbformat_minor": 4
}
